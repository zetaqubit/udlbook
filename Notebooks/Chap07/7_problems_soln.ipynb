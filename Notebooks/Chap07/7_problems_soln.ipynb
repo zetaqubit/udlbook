{
  "nbformat": 4,
  "nbformat_minor": 0,
  "metadata": {
    "colab": {
      "provenance": [],
      "authorship_tag": "ABX9TyMoo9XfnlWwQjJp2gUqifnv",
      "include_colab_link": true
    },
    "kernelspec": {
      "name": "python3",
      "display_name": "Python 3"
    },
    "language_info": {
      "name": "python"
    }
  },
  "cells": [
    {
      "cell_type": "markdown",
      "metadata": {
        "id": "view-in-github",
        "colab_type": "text"
      },
      "source": [
        "<a href=\"https://colab.research.google.com/github/zetaqubit/udlbook/blob/main/Notebooks/Chap07/7_problems_soln.ipynb\" target=\"_parent\"><img src=\"https://colab.research.google.com/assets/colab-badge.svg\" alt=\"Open In Colab\"/></a>"
      ]
    },
    {
      "cell_type": "code",
      "source": [
        "import numpy as np\n",
        "import matplotlib.pyplot as plt"
      ],
      "metadata": {
        "id": "SIvzmAMw2lVt"
      },
      "execution_count": 2,
      "outputs": []
    },
    {
      "cell_type": "markdown",
      "source": [
        "Problem 7.16 Implement the code in figure 7.8 in PyTorch and plot the training loss as a function of the number of epochs."
      ],
      "metadata": {
        "id": "7M6uODZG2ftj"
      }
    },
    {
      "cell_type": "code",
      "execution_count": 5,
      "metadata": {
        "colab": {
          "base_uri": "https://localhost:8080/",
          "height": 447
        },
        "id": "c3xYjYKZ2d1U",
        "outputId": "948fd55a-e88b-4bf4-d653-1fd5cda4dfbc"
      },
      "outputs": [
        {
          "output_type": "execute_result",
          "data": {
            "text/plain": [
              "[<matplotlib.lines.Line2D at 0x7ccd42f45a80>]"
            ]
          },
          "metadata": {},
          "execution_count": 5
        },
        {
          "output_type": "display_data",
          "data": {
            "text/plain": [
              "<Figure size 640x480 with 1 Axes>"
            ],
            "image/png": "[encoded data removed]"
          },
          "metadata": {}
        }
      ],
      "source": [
        "import torch, torch.nn as nn\n",
        "from torch.utils.data import TensorDataset, DataLoader\n",
        "from torch.optim.lr_scheduler import StepLR\n",
        "\n",
        "# define input size, hidden layer size, output size\n",
        "D_i, D_k, D_o = 10, 40, 5\n",
        "# create model with two hidden layers\n",
        "model = nn.Sequential(\n",
        "    nn.Linear(D_i, D_k),\n",
        "    nn.ReLU(),\n",
        "    nn.Linear(D_k, D_k),\n",
        "    nn.ReLU(),\n",
        "    nn.Linear(D_k, D_o))\n",
        "\n",
        "# He initialization of weights\n",
        "def weights_init(layer_in):\n",
        "  if isinstance(layer_in, nn.Linear):\n",
        "    nn.init.kaiming_uniform_(layer_in.weight)\n",
        "    layer_in.bias.data.fill_(0.0)\n",
        "model.apply(weights_init)\n",
        "\n",
        "# choose least squares loss function\n",
        "criterion = nn.MSELoss()\n",
        "# consttruct SGD optimizer and initialize learning rate and momentum\n",
        "optimizer = torch.optim.SGD(model.parameters(), lr=0.1, momentum=0.9)\n",
        "# object that decreases learning rate by half every 10 epochs\n",
        "scheduler = StepLR(optimizer, step_size=10, gamma=0.5)\n",
        "\n",
        "# create 100 random data points and store in data loader class\n",
        "x = torch.randn(100, D_i)\n",
        "y = torch.randn(100, D_o)\n",
        "data_loader = DataLoader(TensorDataset(x, y), batch_size=10, shuffle=True)\n",
        "\n",
        "training_losses = []\n",
        "\n",
        "# loop over the dataset 100 times\n",
        "for epoch in range(100):\n",
        "  epoch_loss = 0.0\n",
        "  # loop over batches\n",
        "  for i, data in enumerate(data_loader):\n",
        "    # retrieve inputs and labels for this batch\n",
        "    x_batch, y_batch = data\n",
        "    # zero the parameter gradients\n",
        "    optimizer.zero_grad()\n",
        "    # forward pass\n",
        "    pred = model(x_batch)\n",
        "    loss = criterion(pred, y_batch)\n",
        "    # backward pass\n",
        "    loss.backward()\n",
        "    # SGD update\n",
        "    optimizer.step()\n",
        "    # update statistics\n",
        "    epoch_loss += loss.item()\n",
        "\n",
        "  training_losses.append(epoch_loss)\n",
        "  # tell scheduler to consider updating learning rate\n",
        "  scheduler.step()\n",
        "\n",
        "plt.plot(range(len(training_losses)), training_losses)"
      ]
    },
    {
      "cell_type": "markdown",
      "source": [
        "Problem 7.17 Change the code in figure 7.8 to tackle a binary classification problem. You will need to (i) change the targets y so they are binary, (ii) change the network to predict numbers between zero and one (iii) change the loss function appropriately."
      ],
      "metadata": {
        "id": "z4yk83nV2iyi"
      }
    },
    {
      "cell_type": "code",
      "source": [
        "import torch, torch.nn as nn\n",
        "from torch.utils.data import TensorDataset, DataLoader\n",
        "from torch.optim.lr_scheduler import StepLR\n",
        "\n",
        "# define input size, hidden layer size, output size\n",
        "D_i, D_k, D_o = 10, 40, 2\n",
        "# create model with two hidden layers\n",
        "model = nn.Sequential(\n",
        "    nn.Linear(D_i, D_k),\n",
        "    nn.ReLU(),\n",
        "    nn.Linear(D_k, D_k),\n",
        "    nn.ReLU(),\n",
        "    nn.Linear(D_k, D_o))\n",
        "\n",
        "# He initialization of weights\n",
        "def weights_init(layer_in):\n",
        "  if isinstance(layer_in, nn.Linear):\n",
        "    nn.init.kaiming_uniform_(layer_in.weight)\n",
        "    layer_in.bias.data.fill_(0.0)\n",
        "model.apply(weights_init)\n",
        "\n",
        "# choose least squares loss function\n",
        "criterion = nn.BCEWithLogitsLoss()\n",
        "# consttruct SGD optimizer and initialize learning rate and momentum\n",
        "optimizer = torch.optim.SGD(model.parameters(), lr=0.1, momentum=0.9)\n",
        "# object that decreases learning rate by half every 10 epochs\n",
        "scheduler = StepLR(optimizer, step_size=10, gamma=0.5)\n",
        "\n",
        "# create 100 random data points and store in data loader class\n",
        "x = torch.randn(100, D_i)\n",
        "y_idx = torch.randint(0, 2, size=(100,))\n",
        "y = nn.functional.one_hot(y_idx, num_classes=2).to(torch.float32)\n",
        "data_loader = DataLoader(TensorDataset(x, y), batch_size=10, shuffle=True)\n",
        "\n",
        "training_losses = []\n",
        "\n",
        "# loop over the dataset 100 times\n",
        "for epoch in range(100):\n",
        "  epoch_loss = 0.0\n",
        "  # loop over batches\n",
        "  for i, data in enumerate(data_loader):\n",
        "    # retrieve inputs and labels for this batch\n",
        "    x_batch, y_batch = data\n",
        "    # zero the parameter gradients\n",
        "    optimizer.zero_grad()\n",
        "    # forward pass\n",
        "    pred = model(x_batch)\n",
        "    loss = criterion(pred, y_batch)\n",
        "    # backward pass\n",
        "    loss.backward()\n",
        "    # SGD update\n",
        "    optimizer.step()\n",
        "    # update statistics\n",
        "    epoch_loss += loss.item()\n",
        "\n",
        "  training_losses.append(epoch_loss)\n",
        "  # tell scheduler to consider updating learning rate\n",
        "  scheduler.step()\n",
        "\n",
        "plt.plot(range(len(training_losses)), training_losses)"
      ],
      "metadata": {
        "colab": {
          "base_uri": "https://localhost:8080/",
          "height": 447
        },
        "id": "SkwpT9G04y1Y",
        "outputId": "63750059-11a2-4eb0-88af-578be8c37389"
      },
      "execution_count": 20,
      "outputs": [
        {
          "output_type": "execute_result",
          "data": {
            "text/plain": [
              "[<matplotlib.lines.Line2D at 0x7ccd40f059c0>]"
            ]
          },
          "metadata": {},
          "execution_count": 20
        },
        {
          "output_type": "display_data",
          "data": {
            "text/plain": [
              "<Figure size 640x480 with 1 Axes>"
            ],
            "image/png": "[encoded data removed]"
          },
          "metadata": {}
        }
      ]
    },
    {
      "cell_type": "code",
      "source": [],
      "metadata": {
        "id": "j_FtDgow5k4k"
      },
      "execution_count": null,
      "outputs": []
    }
  ]
}