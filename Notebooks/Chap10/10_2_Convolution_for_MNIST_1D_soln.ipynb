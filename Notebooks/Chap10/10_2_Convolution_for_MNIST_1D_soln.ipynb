{
  "nbformat": 4,
  "nbformat_minor": 0,
  "metadata": {
    "colab": {
      "provenance": [],
      "include_colab_link": true
    },
    "kernelspec": {
      "name": "python3",
      "display_name": "Python 3"
    },
    "language_info": {
      "name": "python"
    }
  },
  "cells": [
    {
      "cell_type": "markdown",
      "metadata": {
        "id": "view-in-github",
        "colab_type": "text"
      },
      "source": [
        "<a href=\"https://colab.research.google.com/github/zetaqubit/udlbook/blob/main/Notebooks/Chap10/10_2_Convolution_for_MNIST_1D_soln.ipynb\" target=\"_parent\"><img src=\"https://colab.research.google.com/assets/colab-badge.svg\" alt=\"Open In Colab\"/></a>"
      ]
    },
    {
      "cell_type": "markdown",
      "source": [
        "# **Notebook 10.2: Convolution for MNIST-1D**\n",
        "\n",
        "This notebook investigates a 1D convolutional network for MNIST-1D as in figure 10.7 and 10.8a.\n",
        "\n",
        "Work through the cells below, running each cell in turn. In various places you will see the words \"TO DO\". Follow the instructions at these places and make predictions about what is going to happen or write code to complete the functions.\n",
        "\n",
        "Contact me at udlbookmail@gmail.com if you find any mistakes or have any suggestions.\n",
        "\n"
      ],
      "metadata": {
        "id": "t9vk9Elugvmi"
      }
    },
    {
      "cell_type": "code",
      "source": [
        "# Run this if you're in a Colab to make a local copy of the MNIST 1D repository\n",
        "!git clone https://github.com/greydanus/mnist1d"
      ],
      "metadata": {
        "id": "D5yLObtZCi9J",
        "outputId": "11226f0d-d114-4a08-c7ea-3c038b2e1a2c",
        "colab": {
          "base_uri": "https://localhost:8080/"
        }
      },
      "execution_count": 1,
      "outputs": [
        {
          "output_type": "stream",
          "name": "stdout",
          "text": [
            "Cloning into 'mnist1d'...\n",
            "remote: Enumerating objects: 155, done.\u001b[K\n",
            "remote: Counting objects: 100% (155/155), done.\u001b[K\n",
            "remote: Compressing objects: 100% (129/129), done.\u001b[K\n",
            "remote: Total 155 (delta 52), reused 123 (delta 26), pack-reused 0\u001b[K\n",
            "Receiving objects: 100% (155/155), 6.48 MiB | 11.11 MiB/s, done.\n",
            "Resolving deltas: 100% (52/52), done.\n"
          ]
        }
      ]
    },
    {
      "cell_type": "code",
      "source": [
        "import numpy as np\n",
        "import os\n",
        "import torch, torch.nn as nn\n",
        "from torch.utils.data import TensorDataset, DataLoader\n",
        "from torch.optim.lr_scheduler import StepLR\n",
        "import matplotlib.pyplot as plt\n",
        "import mnist1d\n",
        "import random"
      ],
      "metadata": {
        "id": "YrXWAH7sUWvU"
      },
      "execution_count": 2,
      "outputs": []
    },
    {
      "cell_type": "code",
      "source": [
        "args = mnist1d.data.get_dataset_args()\n",
        "data = mnist1d.data.get_dataset(args, path='./mnist1d_data.pkl', download=False, regenerate=False)\n",
        "\n",
        "# The training and test input and outputs are in\n",
        "# data['x'], data['y'], data['x_test'], and data['y_test']\n",
        "print(\"Examples in training set: {}\".format(len(data['y'])))\n",
        "print(\"Examples in test set: {}\".format(len(data['y_test'])))\n",
        "print(\"Length of each example: {}\".format(data['x'].shape[-1]))"
      ],
      "metadata": {
        "id": "twI72ZCrCt5z",
        "outputId": "a470f06e-c8db-4c8e-c202-0364bdd2a452",
        "colab": {
          "base_uri": "https://localhost:8080/"
        }
      },
      "execution_count": 3,
      "outputs": [
        {
          "output_type": "stream",
          "name": "stdout",
          "text": [
            "Did or could not load data from ./mnist1d_data.pkl. Rebuilding dataset...\n",
            "Examples in training set: 4000\n",
            "Examples in test set: 1000\n",
            "Length of each example: 40\n"
          ]
        }
      ]
    },
    {
      "cell_type": "code",
      "source": [
        "# Load in the data\n",
        "train_data_x = data['x'].transpose()\n",
        "train_data_y = data['y']\n",
        "val_data_x = data['x_test'].transpose()\n",
        "val_data_y = data['y_test']\n",
        "# Print out sizes\n",
        "print(\"Train data: %d examples (columns), each of which has %d dimensions (rows)\"%((train_data_x.shape[1],train_data_x.shape[0])))\n",
        "print(\"Validation data: %d examples (columns), each of which has %d dimensions (rows)\"%((val_data_x.shape[1],val_data_x.shape[0])))"
      ],
      "metadata": {
        "id": "8bKADvLHbiV5",
        "outputId": "eeb9d514-6e92-42bd-92d2-e02274ad41f7",
        "colab": {
          "base_uri": "https://localhost:8080/"
        }
      },
      "execution_count": 4,
      "outputs": [
        {
          "output_type": "stream",
          "name": "stdout",
          "text": [
            "Train data: 4000 examples (columns), each of which has 40 dimensions (rows)\n",
            "Validation data: 1000 examples (columns), each of which has 40 dimensions (rows)\n"
          ]
        }
      ]
    },
    {
      "cell_type": "markdown",
      "source": [
        "Define the network"
      ],
      "metadata": {
        "id": "_sFvRDGrl4qe"
      }
    },
    {
      "cell_type": "code",
      "source": [
        "# There are 40 input dimensions and 10 output dimensions for this data\n",
        "# The inputs correspond to the 40 offsets in the MNIST1D template.\n",
        "D_i = 40\n",
        "# The outputs correspond to the 10 digits\n",
        "D_o = 10\n",
        "\n",
        "\n",
        "# TODO Create a model with the following layers\n",
        "# 1. Convolutional layer, (input=length 40 and 1 channel, kernel size 3, stride 2, padding=\"valid\", 15 output channels )\n",
        "# 2. ReLU\n",
        "# 3. Convolutional layer, (input=length 19 and 15 channels, kernel size 3, stride 2, padding=\"valid\", 15 output channels )\n",
        "# 4. ReLU\n",
        "# 5. Convolutional layer, (input=length 9 and 15 channels, kernel size 3, stride 2, padding=\"valid\", 15 output channels)\n",
        "# 6. ReLU\n",
        "# 7. Flatten (converts 4x15) to length 60\n",
        "# 8. Linear layer (input size = 60, output size = 10)\n",
        "# References:\n",
        "# https://pytorch.org/docs/1.13/generated/torch.nn.Conv1d.html?highlight=conv1d#torch.nn.Conv1d\n",
        "# https://pytorch.org/docs/stable/generated/torch.nn.Flatten.html\n",
        "# https://pytorch.org/docs/1.13/generated/torch.nn.Linear.html?highlight=linear#torch.nn.Linear\n",
        "\n",
        "# NOTE THAT THE CONVOLUTIONAL LAYERS NEED TO TAKE THE NUMBER OF INPUT CHANNELS AS A PARAMETER\n",
        "# AND NOT THE INPUT SIZE.\n",
        "\n",
        "# Replace the following function:\n",
        "model = nn.Sequential(\n",
        "    nn.Conv1d(1, 15, kernel_size=3, stride=2, padding='valid'),\n",
        "    nn.ReLU(),\n",
        "    nn.Conv1d(15, 15, kernel_size=3, stride=2, padding='valid'),\n",
        "    nn.ReLU(),\n",
        "    nn.Conv1d(15, 15, kernel_size=3, stride=2, padding='valid'),\n",
        "    nn.ReLU(),\n",
        "    nn.Flatten(),\n",
        "    nn.Linear(60, 10),\n",
        ")\n"
      ],
      "metadata": {
        "id": "FslroPJJffrh"
      },
      "execution_count": 6,
      "outputs": []
    },
    {
      "cell_type": "code",
      "source": [
        "# He initialization of weights\n",
        "def weights_init(layer_in):\n",
        "  if isinstance(layer_in, nn.Linear):\n",
        "    nn.init.kaiming_uniform_(layer_in.weight)\n",
        "    layer_in.bias.data.fill_(0.0)"
      ],
      "metadata": {
        "id": "YgLaex1pfhqz"
      },
      "execution_count": 7,
      "outputs": []
    },
    {
      "cell_type": "code",
      "source": [
        "# choose cross entropy loss function (equation 5.24 in the loss notes)\n",
        "loss_function = nn.CrossEntropyLoss()\n",
        "# construct SGD optimizer and initialize learning rate and momentum\n",
        "optimizer = torch.optim.SGD(model.parameters(), lr = 0.05, momentum=0.9)\n",
        "# object that decreases learning rate by half every 20 epochs\n",
        "scheduler = StepLR(optimizer, step_size=20, gamma=0.5)\n",
        "# create 100 dummy data points and store in data loader class\n",
        "x_train = torch.tensor(train_data_x.transpose().astype('float32'))\n",
        "y_train = torch.tensor(train_data_y.astype('long')).long()\n",
        "x_val= torch.tensor(val_data_x.transpose().astype('float32'))\n",
        "y_val = torch.tensor(val_data_y.astype('long')).long()\n",
        "\n",
        "# load the data into a class that creates the batches\n",
        "data_loader = DataLoader(TensorDataset(x_train,y_train), batch_size=100, shuffle=True, worker_init_fn=np.random.seed(1))\n",
        "\n",
        "# Initialize model weights\n",
        "model.apply(weights_init)\n",
        "\n",
        "# loop over the dataset n_epoch times\n",
        "n_epoch = 100\n",
        "# store the loss and the % correct at each epoch\n",
        "losses_train = np.zeros((n_epoch))\n",
        "errors_train = np.zeros((n_epoch))\n",
        "losses_val = np.zeros((n_epoch))\n",
        "errors_val = np.zeros((n_epoch))\n",
        "\n",
        "for epoch in range(n_epoch):\n",
        "  # loop over batches\n",
        "  for i, data in enumerate(data_loader):\n",
        "    # retrieve inputs and labels for this batch\n",
        "    x_batch, y_batch = data\n",
        "    # zero the parameter gradients\n",
        "    optimizer.zero_grad()\n",
        "    # forward pass -- calculate model output\n",
        "    pred = model(x_batch[:,None,:])\n",
        "    # compute the loss\n",
        "    loss = loss_function(pred, y_batch)\n",
        "    # backward pass\n",
        "    loss.backward()\n",
        "    # SGD update\n",
        "    optimizer.step()\n",
        "\n",
        "  # Run whole dataset to get statistics -- normally wouldn't do this\n",
        "  pred_train = model(x_train[:,None,:])\n",
        "  pred_val = model(x_val[:,None,:])\n",
        "  _, predicted_train_class = torch.max(pred_train.data, 1)\n",
        "  _, predicted_val_class = torch.max(pred_val.data, 1)\n",
        "  errors_train[epoch] = 100 - 100 * (predicted_train_class == y_train).float().sum() / len(y_train)\n",
        "  errors_val[epoch]= 100 - 100 * (predicted_val_class == y_val).float().sum() / len(y_val)\n",
        "  losses_train[epoch] = loss_function(pred_train, y_train).item()\n",
        "  losses_val[epoch]= loss_function(pred_val, y_val).item()\n",
        "  print(f'Epoch {epoch:5d}, train loss {losses_train[epoch]:.6f}, train error {errors_train[epoch]:3.2f},  val loss {losses_val[epoch]:.6f}, percent error {errors_val[epoch]:3.2f}')\n",
        "\n",
        "  # tell scheduler to consider updating learning rate\n",
        "  scheduler.step()\n",
        "\n",
        "# Plot the results\n",
        "fig, ax = plt.subplots()\n",
        "ax.plot(errors_train,'r-',label='train')\n",
        "ax.plot(errors_val,'b-',label='validation')\n",
        "ax.set_ylim(0,100); ax.set_xlim(0,n_epoch)\n",
        "ax.set_xlabel('Epoch'); ax.set_ylabel('Error')\n",
        "ax.set_title('Part I: Validation Result %3.2f'%(errors_val[-1]))\n",
        "ax.legend()\n",
        "plt.show()"
      ],
      "metadata": {
        "id": "NYw8I_3mmX5c",
        "outputId": "4a195ceb-f005-434c-a43d-a6a44204623f",
        "colab": {
          "base_uri": "https://localhost:8080/",
          "height": 1000
        }
      },
      "execution_count": 8,
      "outputs": [
        {
          "output_type": "stream",
          "name": "stdout",
          "text": [
            "Epoch     0, train loss 1.867993, train error 71.32,  val loss 1.873172, percent error 72.20\n",
            "Epoch     1, train loss 1.480955, train error 59.62,  val loss 1.513281, percent error 61.70\n",
            "Epoch     2, train loss 1.311138, train error 52.90,  val loss 1.332922, percent error 56.10\n",
            "Epoch     3, train loss 1.351471, train error 55.17,  val loss 1.390465, percent error 56.20\n",
            "Epoch     4, train loss 1.290097, train error 54.40,  val loss 1.315038, percent error 56.40\n",
            "Epoch     5, train loss 1.093479, train error 44.78,  val loss 1.124393, percent error 46.80\n",
            "Epoch     6, train loss 1.006463, train error 40.95,  val loss 1.036711, percent error 42.60\n",
            "Epoch     7, train loss 1.006100, train error 39.65,  val loss 1.050483, percent error 41.20\n",
            "Epoch     8, train loss 0.851733, train error 34.18,  val loss 0.889893, percent error 35.70\n",
            "Epoch     9, train loss 0.757719, train error 29.05,  val loss 0.813595, percent error 32.40\n",
            "Epoch    10, train loss 0.653687, train error 25.78,  val loss 0.710820, percent error 29.20\n",
            "Epoch    11, train loss 0.640731, train error 25.43,  val loss 0.710280, percent error 28.70\n",
            "Epoch    12, train loss 0.570990, train error 22.72,  val loss 0.645810, percent error 26.00\n",
            "Epoch    13, train loss 0.579059, train error 22.55,  val loss 0.633446, percent error 27.10\n",
            "Epoch    14, train loss 0.496933, train error 19.10,  val loss 0.556046, percent error 21.00\n",
            "Epoch    15, train loss 0.450134, train error 17.32,  val loss 0.535840, percent error 21.00\n",
            "Epoch    16, train loss 0.441517, train error 17.82,  val loss 0.517137, percent error 21.20\n",
            "Epoch    17, train loss 0.379101, train error 14.22,  val loss 0.454756, percent error 17.00\n",
            "Epoch    18, train loss 0.404178, train error 15.32,  val loss 0.517256, percent error 18.30\n",
            "Epoch    19, train loss 0.431550, train error 16.12,  val loss 0.516349, percent error 17.70\n",
            "Epoch    20, train loss 0.329367, train error 11.70,  val loss 0.454584, percent error 16.60\n",
            "Epoch    21, train loss 0.308873, train error 11.05,  val loss 0.466153, percent error 17.40\n",
            "Epoch    22, train loss 0.264281, train error 9.55,  val loss 0.402101, percent error 13.10\n",
            "Epoch    23, train loss 0.237792, train error 8.22,  val loss 0.382707, percent error 13.60\n",
            "Epoch    24, train loss 0.229137, train error 8.07,  val loss 0.388180, percent error 13.20\n",
            "Epoch    25, train loss 0.262411, train error 9.22,  val loss 0.428550, percent error 14.50\n",
            "Epoch    26, train loss 0.219344, train error 7.75,  val loss 0.395357, percent error 15.00\n",
            "Epoch    27, train loss 0.223374, train error 7.50,  val loss 0.393607, percent error 14.70\n",
            "Epoch    28, train loss 0.214543, train error 7.45,  val loss 0.405201, percent error 12.90\n",
            "Epoch    29, train loss 0.216059, train error 7.62,  val loss 0.400573, percent error 13.60\n",
            "Epoch    30, train loss 0.207041, train error 7.30,  val loss 0.404827, percent error 14.20\n",
            "Epoch    31, train loss 0.188912, train error 6.47,  val loss 0.372678, percent error 12.70\n",
            "Epoch    32, train loss 0.185752, train error 6.55,  val loss 0.381877, percent error 12.80\n",
            "Epoch    33, train loss 0.190354, train error 6.65,  val loss 0.399506, percent error 13.00\n",
            "Epoch    34, train loss 0.159892, train error 5.62,  val loss 0.377016, percent error 12.70\n",
            "Epoch    35, train loss 0.153163, train error 5.30,  val loss 0.362627, percent error 11.60\n",
            "Epoch    36, train loss 0.148175, train error 5.22,  val loss 0.351105, percent error 11.30\n",
            "Epoch    37, train loss 0.148084, train error 5.35,  val loss 0.372657, percent error 12.10\n",
            "Epoch    38, train loss 0.154941, train error 5.22,  val loss 0.387669, percent error 12.90\n",
            "Epoch    39, train loss 0.194788, train error 7.50,  val loss 0.432644, percent error 13.80\n",
            "Epoch    40, train loss 0.123907, train error 3.78,  val loss 0.357755, percent error 10.40\n",
            "Epoch    41, train loss 0.119870, train error 4.12,  val loss 0.330957, percent error 10.40\n",
            "Epoch    42, train loss 0.114793, train error 3.60,  val loss 0.347990, percent error 10.80\n",
            "Epoch    43, train loss 0.112977, train error 3.43,  val loss 0.345335, percent error 10.60\n",
            "Epoch    44, train loss 0.102933, train error 3.38,  val loss 0.337913, percent error 10.60\n",
            "Epoch    45, train loss 0.106473, train error 3.43,  val loss 0.349217, percent error 10.80\n",
            "Epoch    46, train loss 0.097489, train error 3.00,  val loss 0.338733, percent error 10.10\n",
            "Epoch    47, train loss 0.093222, train error 2.70,  val loss 0.346735, percent error 11.20\n",
            "Epoch    48, train loss 0.097307, train error 3.12,  val loss 0.361369, percent error 10.90\n",
            "Epoch    49, train loss 0.088854, train error 2.78,  val loss 0.340785, percent error 9.90\n",
            "Epoch    50, train loss 0.092797, train error 2.70,  val loss 0.358175, percent error 9.90\n",
            "Epoch    51, train loss 0.088973, train error 2.55,  val loss 0.352218, percent error 10.60\n",
            "Epoch    52, train loss 0.082875, train error 2.43,  val loss 0.348181, percent error 10.60\n",
            "Epoch    53, train loss 0.085173, train error 2.40,  val loss 0.356160, percent error 10.70\n",
            "Epoch    54, train loss 0.080967, train error 2.25,  val loss 0.355561, percent error 10.30\n",
            "Epoch    55, train loss 0.088565, train error 2.70,  val loss 0.371296, percent error 10.20\n",
            "Epoch    56, train loss 0.080017, train error 2.22,  val loss 0.358264, percent error 10.20\n",
            "Epoch    57, train loss 0.083518, train error 2.47,  val loss 0.363702, percent error 11.00\n",
            "Epoch    58, train loss 0.080608, train error 2.38,  val loss 0.395011, percent error 11.10\n",
            "Epoch    59, train loss 0.070923, train error 1.93,  val loss 0.351077, percent error 10.10\n",
            "Epoch    60, train loss 0.067795, train error 1.80,  val loss 0.364801, percent error 10.50\n",
            "Epoch    61, train loss 0.067187, train error 1.62,  val loss 0.362811, percent error 10.90\n",
            "Epoch    62, train loss 0.066598, train error 1.50,  val loss 0.361588, percent error 10.20\n",
            "Epoch    63, train loss 0.064909, train error 1.47,  val loss 0.362941, percent error 10.30\n",
            "Epoch    64, train loss 0.063747, train error 1.45,  val loss 0.367542, percent error 10.80\n",
            "Epoch    65, train loss 0.062984, train error 1.47,  val loss 0.367853, percent error 10.20\n",
            "Epoch    66, train loss 0.070010, train error 1.85,  val loss 0.371333, percent error 10.10\n",
            "Epoch    67, train loss 0.061445, train error 1.47,  val loss 0.375397, percent error 10.70\n",
            "Epoch    68, train loss 0.061654, train error 1.50,  val loss 0.381365, percent error 10.60\n",
            "Epoch    69, train loss 0.061800, train error 1.47,  val loss 0.382805, percent error 10.80\n",
            "Epoch    70, train loss 0.058678, train error 1.32,  val loss 0.374035, percent error 10.70\n",
            "Epoch    71, train loss 0.059001, train error 1.32,  val loss 0.381318, percent error 10.70\n",
            "Epoch    72, train loss 0.062104, train error 1.53,  val loss 0.386224, percent error 10.80\n",
            "Epoch    73, train loss 0.059196, train error 1.43,  val loss 0.379563, percent error 10.30\n",
            "Epoch    74, train loss 0.057886, train error 1.45,  val loss 0.384181, percent error 10.70\n",
            "Epoch    75, train loss 0.058046, train error 1.50,  val loss 0.374431, percent error 9.90\n",
            "Epoch    76, train loss 0.055322, train error 1.30,  val loss 0.386238, percent error 10.70\n",
            "Epoch    77, train loss 0.055010, train error 1.25,  val loss 0.384293, percent error 10.60\n",
            "Epoch    78, train loss 0.054409, train error 1.05,  val loss 0.385197, percent error 10.70\n",
            "Epoch    79, train loss 0.053437, train error 1.25,  val loss 0.383979, percent error 10.60\n",
            "Epoch    80, train loss 0.051484, train error 1.12,  val loss 0.388262, percent error 10.70\n",
            "Epoch    81, train loss 0.051330, train error 1.15,  val loss 0.385975, percent error 10.40\n",
            "Epoch    82, train loss 0.050836, train error 1.10,  val loss 0.385498, percent error 10.50\n",
            "Epoch    83, train loss 0.050687, train error 1.07,  val loss 0.388770, percent error 10.80\n",
            "Epoch    84, train loss 0.051579, train error 1.12,  val loss 0.395688, percent error 11.00\n",
            "Epoch    85, train loss 0.049954, train error 1.10,  val loss 0.394725, percent error 10.80\n",
            "Epoch    86, train loss 0.049605, train error 1.03,  val loss 0.387981, percent error 10.40\n",
            "Epoch    87, train loss 0.050310, train error 1.10,  val loss 0.388714, percent error 10.40\n",
            "Epoch    88, train loss 0.048886, train error 1.05,  val loss 0.394476, percent error 10.50\n",
            "Epoch    89, train loss 0.048494, train error 1.00,  val loss 0.390229, percent error 10.60\n",
            "Epoch    90, train loss 0.048383, train error 1.10,  val loss 0.390974, percent error 10.50\n",
            "Epoch    91, train loss 0.048238, train error 1.00,  val loss 0.392142, percent error 10.30\n",
            "Epoch    92, train loss 0.048010, train error 1.03,  val loss 0.391109, percent error 10.60\n",
            "Epoch    93, train loss 0.047933, train error 1.00,  val loss 0.401409, percent error 10.60\n",
            "Epoch    94, train loss 0.047039, train error 1.03,  val loss 0.395917, percent error 10.50\n",
            "Epoch    95, train loss 0.047824, train error 1.03,  val loss 0.396388, percent error 10.40\n",
            "Epoch    96, train loss 0.047154, train error 1.00,  val loss 0.394142, percent error 10.40\n",
            "Epoch    97, train loss 0.047063, train error 1.00,  val loss 0.400097, percent error 10.50\n",
            "Epoch    98, train loss 0.046506, train error 1.00,  val loss 0.399523, percent error 10.50\n",
            "Epoch    99, train loss 0.045883, train error 0.93,  val loss 0.398782, percent error 10.50\n"
          ]
        },
        {
          "output_type": "display_data",
          "data": {
            "text/plain": [
              "<Figure size 640x480 with 1 Axes>"
            ],
            "image/png": "[encoded data removed]"
          },
          "metadata": {}
        }
      ]
    },
    {
      "cell_type": "code",
      "source": [],
      "metadata": {
        "id": "aY29JHRNjMCB"
      },
      "execution_count": null,
      "outputs": []
    }
  ]
}