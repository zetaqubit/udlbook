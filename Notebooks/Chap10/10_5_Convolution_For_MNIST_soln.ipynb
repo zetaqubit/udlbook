{
  "nbformat": 4,
  "nbformat_minor": 0,
  "metadata": {
    "colab": {
      "provenance": [],
      "include_colab_link": true
    },
    "kernelspec": {
      "name": "python3",
      "display_name": "Python 3"
    },
    "language_info": {
      "name": "python"
    }
  },
  "cells": [
    {
      "cell_type": "markdown",
      "metadata": {
        "id": "view-in-github",
        "colab_type": "text"
      },
      "source": [
        "<a href=\"https://colab.research.google.com/github/zetaqubit/udlbook/blob/main/Notebooks/Chap10/10_5_Convolution_For_MNIST_soln.ipynb\" target=\"_parent\"><img src=\"https://colab.research.google.com/assets/colab-badge.svg\" alt=\"Open In Colab\"/></a>"
      ]
    },
    {
      "cell_type": "markdown",
      "source": [
        "# **Notebook 10.5: Convolution for MNIST**\n",
        "\n",
        "This notebook builds a proper network for 2D convolution.  It works with the MNIST dataset (figure 15.15a), which was the original classic dataset for classifying images.  The network will take a 28x28 grayscale image and classify it into one of 10 classes representing a digit.\n",
        "\n",
        "The code is adapted from https://nextjournal.com/gkoehler/pytorch-mnist\n",
        "\n",
        "Work through the cells below, running each cell in turn. In various places you will see the words \"TO DO\". Follow the instructions at these places and make predictions about what is going to happen or write code to complete the functions.\n",
        "\n",
        "Contact me at udlbookmail@gmail.com if you find any mistakes or have any suggestions.\n"
      ],
      "metadata": {
        "id": "t9vk9Elugvmi"
      }
    },
    {
      "cell_type": "code",
      "source": [
        "import torch\n",
        "import torchvision\n",
        "import torch.nn as nn\n",
        "import torch.nn.functional as F\n",
        "import torch.optim as optim\n",
        "import matplotlib.pyplot as plt\n",
        "import random"
      ],
      "metadata": {
        "id": "YrXWAH7sUWvU"
      },
      "execution_count": 1,
      "outputs": []
    },
    {
      "cell_type": "code",
      "source": [
        "# Run this once to load the train and test data straight into a dataloader class\n",
        "# that will provide the batches\n",
        "batch_size_train = 64\n",
        "batch_size_test = 1000\n",
        "train_loader = torch.utils.data.DataLoader(\n",
        "  torchvision.datasets.MNIST('/files/', train=True, download=True,\n",
        "                             transform=torchvision.transforms.Compose([\n",
        "                               torchvision.transforms.ToTensor(),\n",
        "                               torchvision.transforms.Normalize(\n",
        "                                 (0.1307,), (0.3081,))\n",
        "                             ])),\n",
        "  batch_size=batch_size_train, shuffle=True)\n",
        "\n",
        "test_loader = torch.utils.data.DataLoader(\n",
        "  torchvision.datasets.MNIST('/files/', train=False, download=True,\n",
        "                             transform=torchvision.transforms.Compose([\n",
        "                               torchvision.transforms.ToTensor(),\n",
        "                               torchvision.transforms.Normalize(\n",
        "                                 (0.1307,), (0.3081,))\n",
        "                             ])),\n",
        "  batch_size=batch_size_test, shuffle=True)"
      ],
      "metadata": {
        "id": "wScBGXXFVadm",
        "outputId": "5d6c64cd-d687-4968-9c7b-9eb09fc4b1d5",
        "colab": {
          "base_uri": "https://localhost:8080/"
        }
      },
      "execution_count": 2,
      "outputs": [
        {
          "output_type": "stream",
          "name": "stdout",
          "text": [
            "Downloading http://yann.lecun.com/exdb/mnist/train-images-idx3-ubyte.gz\n",
            "Downloading http://yann.lecun.com/exdb/mnist/train-images-idx3-ubyte.gz to /files/MNIST/raw/train-images-idx3-ubyte.gz\n"
          ]
        },
        {
          "output_type": "stream",
          "name": "stderr",
          "text": [
            "100%|██████████| 9912422/9912422 [00:00<00:00, 86457020.20it/s]\n"
          ]
        },
        {
          "output_type": "stream",
          "name": "stdout",
          "text": [
            "Extracting /files/MNIST/raw/train-images-idx3-ubyte.gz to /files/MNIST/raw\n",
            "\n",
            "Downloading http://yann.lecun.com/exdb/mnist/train-labels-idx1-ubyte.gz\n",
            "Downloading http://yann.lecun.com/exdb/mnist/train-labels-idx1-ubyte.gz to /files/MNIST/raw/train-labels-idx1-ubyte.gz\n"
          ]
        },
        {
          "output_type": "stream",
          "name": "stderr",
          "text": [
            "100%|██████████| 28881/28881 [00:00<00:00, 70674267.11it/s]\n"
          ]
        },
        {
          "output_type": "stream",
          "name": "stdout",
          "text": [
            "Extracting /files/MNIST/raw/train-labels-idx1-ubyte.gz to /files/MNIST/raw\n",
            "\n",
            "Downloading http://yann.lecun.com/exdb/mnist/t10k-images-idx3-ubyte.gz\n",
            "Downloading http://yann.lecun.com/exdb/mnist/t10k-images-idx3-ubyte.gz to /files/MNIST/raw/t10k-images-idx3-ubyte.gz\n"
          ]
        },
        {
          "output_type": "stream",
          "name": "stderr",
          "text": [
            "100%|██████████| 1648877/1648877 [00:00<00:00, 32830572.39it/s]\n"
          ]
        },
        {
          "output_type": "stream",
          "name": "stdout",
          "text": [
            "Extracting /files/MNIST/raw/t10k-images-idx3-ubyte.gz to /files/MNIST/raw\n",
            "\n",
            "Downloading http://yann.lecun.com/exdb/mnist/t10k-labels-idx1-ubyte.gz\n",
            "Downloading http://yann.lecun.com/exdb/mnist/t10k-labels-idx1-ubyte.gz to /files/MNIST/raw/t10k-labels-idx1-ubyte.gz\n"
          ]
        },
        {
          "output_type": "stream",
          "name": "stderr",
          "text": [
            "100%|██████████| 4542/4542 [00:00<00:00, 3136922.24it/s]"
          ]
        },
        {
          "output_type": "stream",
          "name": "stdout",
          "text": [
            "Extracting /files/MNIST/raw/t10k-labels-idx1-ubyte.gz to /files/MNIST/raw\n",
            "\n"
          ]
        },
        {
          "output_type": "stream",
          "name": "stderr",
          "text": [
            "\n"
          ]
        }
      ]
    },
    {
      "cell_type": "code",
      "source": [
        "# Let's draw some of the training data\n",
        "examples = enumerate(test_loader)\n",
        "batch_idx, (example_data, example_targets) = next(examples)\n",
        "\n",
        "fig = plt.figure()\n",
        "for i in range(6):\n",
        "  plt.subplot(2,3,i+1)\n",
        "  plt.tight_layout()\n",
        "  plt.imshow(example_data[i][0], cmap='gray', interpolation='none')\n",
        "  plt.title(\"Ground Truth: {}\".format(example_targets[i]))\n",
        "  plt.xticks([])\n",
        "  plt.yticks([])\n",
        "plt.show()"
      ],
      "metadata": {
        "id": "8bKADvLHbiV5",
        "outputId": "822821e7-dca5-49f2-ba89-cadc8abf0424",
        "colab": {
          "base_uri": "https://localhost:8080/",
          "height": 438
        }
      },
      "execution_count": 3,
      "outputs": [
        {
          "output_type": "display_data",
          "data": {
            "text/plain": [
              "<Figure size 640x480 with 6 Axes>"
            ],
            "image/png": "[encoded data removed]"
          },
          "metadata": {}
        }
      ]
    },
    {
      "cell_type": "markdown",
      "source": [
        "Define the network.  This is a more typical way to define a network than the sequential structure.  We define a class for the network, and define the parameters in the constructor.  Then we use a function called forward to actually run the network.  It's easy to see how you might use residual connections in this format."
      ],
      "metadata": {
        "id": "_sFvRDGrl4qe"
      }
    },
    {
      "cell_type": "code",
      "source": [
        "from os import X_OK\n",
        "# TODO Change this class to implement\n",
        "# 1. A valid convolution with kernel size 5, 1 input channel and 10 output channels\n",
        "# 2. A max pooling operation over a 2x2 area\n",
        "# 3. A Relu\n",
        "# 4. A valid convolution with kernel size 5, 10 input channels and 20 output channels\n",
        "# 5. A 2D Dropout layer\n",
        "# 6. A max pooling operation over a 2x2 area\n",
        "# 7. A relu\n",
        "# 8. A flattening operation\n",
        "# 9. A fully connected layer mapping from (whatever dimensions we are at-- find out using .shape) to 50\n",
        "# 10. A ReLU\n",
        "# 11. A fully connected layer mapping from 50 to 10 dimensions\n",
        "# 12. A softmax function.\n",
        "\n",
        "# Replace this class which implements a minimal network (which still does okay)\n",
        "class Net(nn.Module):\n",
        "    def __init__(self):\n",
        "        super(Net, self).__init__()\n",
        "        self.conv1 = nn.Conv2d(1, 10, kernel_size=5)\n",
        "        self.conv2 = nn.Conv2d(10, 20, kernel_size=5)\n",
        "        # Dropout for convolutions\n",
        "        self.drop = nn.Dropout2d()\n",
        "        # Fully connected layer\n",
        "        self.fc1 = nn.Linear(320, 50)\n",
        "        self.fc2 = nn.Linear(50, 10)\n",
        "\n",
        "    def forward(self, x):\n",
        "        x = self.conv1(x)\n",
        "        x = F.max_pool2d(x, 2)\n",
        "        x = F.relu(x)\n",
        "        x = self.conv2(x)\n",
        "        x = self.drop(x)\n",
        "        x = F.max_pool2d(x, 2)\n",
        "        x = F.relu(x)\n",
        "        x = x.flatten(1)\n",
        "        x = self.fc1(x)\n",
        "        x = F.relu(x)\n",
        "        x = self.fc2(x)\n",
        "        x = F.log_softmax(x)\n",
        "        return x\n",
        "\n",
        "\n",
        "\n",
        "\n"
      ],
      "metadata": {
        "id": "EQkvw2KOPVl7"
      },
      "execution_count": 16,
      "outputs": []
    },
    {
      "cell_type": "code",
      "source": [
        "# He initialization of weights\n",
        "def weights_init(layer_in):\n",
        "  if isinstance(layer_in, nn.Linear):\n",
        "    nn.init.kaiming_uniform_(layer_in.weight)\n",
        "    layer_in.bias.data.fill_(0.0)"
      ],
      "metadata": {
        "id": "qWZtkCZcU_dg"
      },
      "execution_count": 17,
      "outputs": []
    },
    {
      "cell_type": "code",
      "source": [
        "# Create network\n",
        "model = Net()\n",
        "# Initialize model weights\n",
        "model.apply(weights_init)\n",
        "# Define optimizer\n",
        "optimizer = optim.SGD(model.parameters(), lr=0.01, momentum=0.5)"
      ],
      "metadata": {
        "id": "FslroPJJffrh"
      },
      "execution_count": 18,
      "outputs": []
    },
    {
      "cell_type": "code",
      "source": [
        "# Main training routine\n",
        "def train(epoch):\n",
        "  model.train()\n",
        "  # Get each\n",
        "  for batch_idx, (data, target) in enumerate(train_loader):\n",
        "    optimizer.zero_grad()\n",
        "    output = model(data)\n",
        "    loss = F.nll_loss(output, target)\n",
        "    loss.backward()\n",
        "    optimizer.step()\n",
        "    # Store results\n",
        "    if batch_idx % 10 == 0:\n",
        "      print('Train Epoch: {} [{}/{}]\\tLoss: {:.6f}'.format(\n",
        "        epoch, batch_idx * len(data), len(train_loader.dataset), loss.item()))"
      ],
      "metadata": {
        "id": "xKQd9PzkQ766"
      },
      "execution_count": 19,
      "outputs": []
    },
    {
      "cell_type": "code",
      "source": [
        "# Run on test data\n",
        "def test():\n",
        "  model.eval()\n",
        "  test_loss = 0\n",
        "  correct = 0\n",
        "  with torch.no_grad():\n",
        "    for data, target in test_loader:\n",
        "      output = model(data)\n",
        "      test_loss += F.nll_loss(output, target, size_average=False).item()\n",
        "      pred = output.data.max(1, keepdim=True)[1]\n",
        "      correct += pred.eq(target.data.view_as(pred)).sum()\n",
        "  test_loss /= len(test_loader.dataset)\n",
        "  print('\\nTest set: Avg. loss: {:.4f}, Accuracy: {}/{} ({:.0f}%)\\n'.format(\n",
        "    test_loss, correct, len(test_loader.dataset),\n",
        "    100. * correct / len(test_loader.dataset)))"
      ],
      "metadata": {
        "id": "Byn-f7qWRLxX"
      },
      "execution_count": 20,
      "outputs": []
    },
    {
      "cell_type": "code",
      "source": [
        "# Get initial performance\n",
        "test()\n",
        "# Train for three epochs\n",
        "n_epochs = 3\n",
        "for epoch in range(1, n_epochs + 1):\n",
        "  train(epoch)\n",
        "  test()"
      ],
      "metadata": {
        "id": "YgLaex1pfhqz",
        "outputId": "68a522f6-73fa-4b40-979b-9a5746c1494b",
        "colab": {
          "base_uri": "https://localhost:8080/"
        }
      },
      "execution_count": 21,
      "outputs": [
        {
          "output_type": "stream",
          "name": "stderr",
          "text": [
            "<ipython-input-16-e5d44321157c>:40: UserWarning: Implicit dimension choice for log_softmax has been deprecated. Change the call to include dim=X as an argument.\n",
            "  x = F.log_softmax(x)\n",
            "/usr/local/lib/python3.10/dist-packages/torch/nn/_reduction.py:42: UserWarning: size_average and reduce args will be deprecated, please use reduction='sum' instead.\n",
            "  warnings.warn(warning.format(ret))\n"
          ]
        },
        {
          "output_type": "stream",
          "name": "stdout",
          "text": [
            "\n",
            "Test set: Avg. loss: 2.6343, Accuracy: 1264/10000 (13%)\n",
            "\n",
            "Train Epoch: 1 [0/60000]\tLoss: 2.886056\n",
            "Train Epoch: 1 [640/60000]\tLoss: 2.242554\n",
            "Train Epoch: 1 [1280/60000]\tLoss: 2.234221\n",
            "Train Epoch: 1 [1920/60000]\tLoss: 1.903135\n",
            "Train Epoch: 1 [2560/60000]\tLoss: 1.771831\n",
            "Train Epoch: 1 [3200/60000]\tLoss: 1.455195\n",
            "Train Epoch: 1 [3840/60000]\tLoss: 1.420040\n",
            "Train Epoch: 1 [4480/60000]\tLoss: 1.245532\n",
            "Train Epoch: 1 [5120/60000]\tLoss: 1.128755\n",
            "Train Epoch: 1 [5760/60000]\tLoss: 1.075016\n",
            "Train Epoch: 1 [6400/60000]\tLoss: 0.759173\n",
            "Train Epoch: 1 [7040/60000]\tLoss: 0.930850\n",
            "Train Epoch: 1 [7680/60000]\tLoss: 0.807038\n",
            "Train Epoch: 1 [8320/60000]\tLoss: 0.974625\n",
            "Train Epoch: 1 [8960/60000]\tLoss: 0.683615\n",
            "Train Epoch: 1 [9600/60000]\tLoss: 0.733431\n",
            "Train Epoch: 1 [10240/60000]\tLoss: 0.672635\n",
            "Train Epoch: 1 [10880/60000]\tLoss: 0.727985\n",
            "Train Epoch: 1 [11520/60000]\tLoss: 0.936089\n",
            "Train Epoch: 1 [12160/60000]\tLoss: 0.567666\n",
            "Train Epoch: 1 [12800/60000]\tLoss: 0.473711\n",
            "Train Epoch: 1 [13440/60000]\tLoss: 0.641005\n",
            "Train Epoch: 1 [14080/60000]\tLoss: 0.543705\n",
            "Train Epoch: 1 [14720/60000]\tLoss: 0.706748\n",
            "Train Epoch: 1 [15360/60000]\tLoss: 0.593120\n",
            "Train Epoch: 1 [16000/60000]\tLoss: 0.612008\n",
            "Train Epoch: 1 [16640/60000]\tLoss: 0.625993\n",
            "Train Epoch: 1 [17280/60000]\tLoss: 0.461263\n",
            "Train Epoch: 1 [17920/60000]\tLoss: 0.698377\n",
            "Train Epoch: 1 [18560/60000]\tLoss: 0.521254\n",
            "Train Epoch: 1 [19200/60000]\tLoss: 0.482357\n",
            "Train Epoch: 1 [19840/60000]\tLoss: 0.244529\n",
            "Train Epoch: 1 [20480/60000]\tLoss: 0.385204\n",
            "Train Epoch: 1 [21120/60000]\tLoss: 0.522090\n",
            "Train Epoch: 1 [21760/60000]\tLoss: 0.283810\n",
            "Train Epoch: 1 [22400/60000]\tLoss: 0.406365\n",
            "Train Epoch: 1 [23040/60000]\tLoss: 0.309923\n",
            "Train Epoch: 1 [23680/60000]\tLoss: 0.591851\n",
            "Train Epoch: 1 [24320/60000]\tLoss: 0.359974\n",
            "Train Epoch: 1 [24960/60000]\tLoss: 0.428297\n",
            "Train Epoch: 1 [25600/60000]\tLoss: 0.312461\n",
            "Train Epoch: 1 [26240/60000]\tLoss: 0.541690\n",
            "Train Epoch: 1 [26880/60000]\tLoss: 0.321823\n",
            "Train Epoch: 1 [27520/60000]\tLoss: 0.342047\n",
            "Train Epoch: 1 [28160/60000]\tLoss: 0.474427\n",
            "Train Epoch: 1 [28800/60000]\tLoss: 0.153918\n",
            "Train Epoch: 1 [29440/60000]\tLoss: 0.442972\n",
            "Train Epoch: 1 [30080/60000]\tLoss: 0.202389\n",
            "Train Epoch: 1 [30720/60000]\tLoss: 0.279816\n",
            "Train Epoch: 1 [31360/60000]\tLoss: 0.321492\n",
            "Train Epoch: 1 [32000/60000]\tLoss: 0.330700\n",
            "Train Epoch: 1 [32640/60000]\tLoss: 0.321765\n",
            "Train Epoch: 1 [33280/60000]\tLoss: 0.267460\n",
            "Train Epoch: 1 [33920/60000]\tLoss: 0.167099\n",
            "Train Epoch: 1 [34560/60000]\tLoss: 0.231358\n",
            "Train Epoch: 1 [35200/60000]\tLoss: 0.222002\n",
            "Train Epoch: 1 [35840/60000]\tLoss: 0.362867\n",
            "Train Epoch: 1 [36480/60000]\tLoss: 0.313854\n",
            "Train Epoch: 1 [37120/60000]\tLoss: 0.162582\n",
            "Train Epoch: 1 [37760/60000]\tLoss: 0.277455\n",
            "Train Epoch: 1 [38400/60000]\tLoss: 0.306365\n",
            "Train Epoch: 1 [39040/60000]\tLoss: 0.249250\n",
            "Train Epoch: 1 [39680/60000]\tLoss: 0.337867\n",
            "Train Epoch: 1 [40320/60000]\tLoss: 0.232674\n",
            "Train Epoch: 1 [40960/60000]\tLoss: 0.182924\n",
            "Train Epoch: 1 [41600/60000]\tLoss: 0.493022\n",
            "Train Epoch: 1 [42240/60000]\tLoss: 0.309235\n",
            "Train Epoch: 1 [42880/60000]\tLoss: 0.287826\n",
            "Train Epoch: 1 [43520/60000]\tLoss: 0.266394\n",
            "Train Epoch: 1 [44160/60000]\tLoss: 0.290795\n",
            "Train Epoch: 1 [44800/60000]\tLoss: 0.450204\n",
            "Train Epoch: 1 [45440/60000]\tLoss: 0.235107\n",
            "Train Epoch: 1 [46080/60000]\tLoss: 0.209165\n",
            "Train Epoch: 1 [46720/60000]\tLoss: 0.250751\n",
            "Train Epoch: 1 [47360/60000]\tLoss: 0.249561\n",
            "Train Epoch: 1 [48000/60000]\tLoss: 0.356948\n",
            "Train Epoch: 1 [48640/60000]\tLoss: 0.211678\n",
            "Train Epoch: 1 [49280/60000]\tLoss: 0.442265\n",
            "Train Epoch: 1 [49920/60000]\tLoss: 0.238655\n",
            "Train Epoch: 1 [50560/60000]\tLoss: 0.661376\n",
            "Train Epoch: 1 [51200/60000]\tLoss: 0.306013\n",
            "Train Epoch: 1 [51840/60000]\tLoss: 0.380096\n",
            "Train Epoch: 1 [52480/60000]\tLoss: 0.245475\n",
            "Train Epoch: 1 [53120/60000]\tLoss: 0.179962\n",
            "Train Epoch: 1 [53760/60000]\tLoss: 0.341443\n",
            "Train Epoch: 1 [54400/60000]\tLoss: 0.396901\n",
            "Train Epoch: 1 [55040/60000]\tLoss: 0.145755\n",
            "Train Epoch: 1 [55680/60000]\tLoss: 0.181127\n",
            "Train Epoch: 1 [56320/60000]\tLoss: 0.363942\n",
            "Train Epoch: 1 [56960/60000]\tLoss: 0.162644\n",
            "Train Epoch: 1 [57600/60000]\tLoss: 0.261304\n",
            "Train Epoch: 1 [58240/60000]\tLoss: 0.182017\n",
            "Train Epoch: 1 [58880/60000]\tLoss: 0.268897\n",
            "Train Epoch: 1 [59520/60000]\tLoss: 0.126092\n",
            "\n",
            "Test set: Avg. loss: 0.1266, Accuracy: 9594/10000 (96%)\n",
            "\n",
            "Train Epoch: 2 [0/60000]\tLoss: 0.132339\n",
            "Train Epoch: 2 [640/60000]\tLoss: 0.149680\n",
            "Train Epoch: 2 [1280/60000]\tLoss: 0.194515\n",
            "Train Epoch: 2 [1920/60000]\tLoss: 0.261988\n",
            "Train Epoch: 2 [2560/60000]\tLoss: 0.241351\n",
            "Train Epoch: 2 [3200/60000]\tLoss: 0.178397\n",
            "Train Epoch: 2 [3840/60000]\tLoss: 0.274301\n",
            "Train Epoch: 2 [4480/60000]\tLoss: 0.133820\n",
            "Train Epoch: 2 [5120/60000]\tLoss: 0.462572\n",
            "Train Epoch: 2 [5760/60000]\tLoss: 0.165877\n",
            "Train Epoch: 2 [6400/60000]\tLoss: 0.220119\n",
            "Train Epoch: 2 [7040/60000]\tLoss: 0.259400\n",
            "Train Epoch: 2 [7680/60000]\tLoss: 0.283447\n",
            "Train Epoch: 2 [8320/60000]\tLoss: 0.118338\n",
            "Train Epoch: 2 [8960/60000]\tLoss: 0.270032\n",
            "Train Epoch: 2 [9600/60000]\tLoss: 0.133562\n",
            "Train Epoch: 2 [10240/60000]\tLoss: 0.339260\n",
            "Train Epoch: 2 [10880/60000]\tLoss: 0.366563\n",
            "Train Epoch: 2 [11520/60000]\tLoss: 0.260479\n",
            "Train Epoch: 2 [12160/60000]\tLoss: 0.280783\n",
            "Train Epoch: 2 [12800/60000]\tLoss: 0.177426\n",
            "Train Epoch: 2 [13440/60000]\tLoss: 0.251735\n",
            "Train Epoch: 2 [14080/60000]\tLoss: 0.267933\n",
            "Train Epoch: 2 [14720/60000]\tLoss: 0.266760\n",
            "Train Epoch: 2 [15360/60000]\tLoss: 0.279522\n",
            "Train Epoch: 2 [16000/60000]\tLoss: 0.191631\n",
            "Train Epoch: 2 [16640/60000]\tLoss: 0.374079\n",
            "Train Epoch: 2 [17280/60000]\tLoss: 0.236742\n",
            "Train Epoch: 2 [17920/60000]\tLoss: 0.345319\n",
            "Train Epoch: 2 [18560/60000]\tLoss: 0.269675\n",
            "Train Epoch: 2 [19200/60000]\tLoss: 0.129018\n",
            "Train Epoch: 2 [19840/60000]\tLoss: 0.306507\n",
            "Train Epoch: 2 [20480/60000]\tLoss: 0.152388\n",
            "Train Epoch: 2 [21120/60000]\tLoss: 0.370620\n",
            "Train Epoch: 2 [21760/60000]\tLoss: 0.209833\n",
            "Train Epoch: 2 [22400/60000]\tLoss: 0.160001\n",
            "Train Epoch: 2 [23040/60000]\tLoss: 0.089269\n",
            "Train Epoch: 2 [23680/60000]\tLoss: 0.069056\n",
            "Train Epoch: 2 [24320/60000]\tLoss: 0.172800\n",
            "Train Epoch: 2 [24960/60000]\tLoss: 0.454018\n",
            "Train Epoch: 2 [25600/60000]\tLoss: 0.184778\n",
            "Train Epoch: 2 [26240/60000]\tLoss: 0.168406\n",
            "Train Epoch: 2 [26880/60000]\tLoss: 0.290593\n",
            "Train Epoch: 2 [27520/60000]\tLoss: 0.248089\n",
            "Train Epoch: 2 [28160/60000]\tLoss: 0.270851\n",
            "Train Epoch: 2 [28800/60000]\tLoss: 0.250910\n",
            "Train Epoch: 2 [29440/60000]\tLoss: 0.130734\n",
            "Train Epoch: 2 [30080/60000]\tLoss: 0.114685\n",
            "Train Epoch: 2 [30720/60000]\tLoss: 0.052482\n",
            "Train Epoch: 2 [31360/60000]\tLoss: 0.200205\n",
            "Train Epoch: 2 [32000/60000]\tLoss: 0.246397\n",
            "Train Epoch: 2 [32640/60000]\tLoss: 0.227778\n",
            "Train Epoch: 2 [33280/60000]\tLoss: 0.218381\n",
            "Train Epoch: 2 [33920/60000]\tLoss: 0.351105\n",
            "Train Epoch: 2 [34560/60000]\tLoss: 0.199440\n",
            "Train Epoch: 2 [35200/60000]\tLoss: 0.093436\n",
            "Train Epoch: 2 [35840/60000]\tLoss: 0.169230\n",
            "Train Epoch: 2 [36480/60000]\tLoss: 0.113286\n",
            "Train Epoch: 2 [37120/60000]\tLoss: 0.190004\n",
            "Train Epoch: 2 [37760/60000]\tLoss: 0.108750\n",
            "Train Epoch: 2 [38400/60000]\tLoss: 0.168154\n",
            "Train Epoch: 2 [39040/60000]\tLoss: 0.209313\n",
            "Train Epoch: 2 [39680/60000]\tLoss: 0.100362\n",
            "Train Epoch: 2 [40320/60000]\tLoss: 0.129056\n",
            "Train Epoch: 2 [40960/60000]\tLoss: 0.233873\n",
            "Train Epoch: 2 [41600/60000]\tLoss: 0.257381\n",
            "Train Epoch: 2 [42240/60000]\tLoss: 0.335692\n",
            "Train Epoch: 2 [42880/60000]\tLoss: 0.098064\n",
            "Train Epoch: 2 [43520/60000]\tLoss: 0.119566\n",
            "Train Epoch: 2 [44160/60000]\tLoss: 0.277960\n",
            "Train Epoch: 2 [44800/60000]\tLoss: 0.115387\n",
            "Train Epoch: 2 [45440/60000]\tLoss: 0.255817\n",
            "Train Epoch: 2 [46080/60000]\tLoss: 0.160417\n",
            "Train Epoch: 2 [46720/60000]\tLoss: 0.349920\n",
            "Train Epoch: 2 [47360/60000]\tLoss: 0.341600\n",
            "Train Epoch: 2 [48000/60000]\tLoss: 0.215170\n",
            "Train Epoch: 2 [48640/60000]\tLoss: 0.098673\n",
            "Train Epoch: 2 [49280/60000]\tLoss: 0.163280\n",
            "Train Epoch: 2 [49920/60000]\tLoss: 0.416197\n",
            "Train Epoch: 2 [50560/60000]\tLoss: 0.037305\n",
            "Train Epoch: 2 [51200/60000]\tLoss: 0.326720\n",
            "Train Epoch: 2 [51840/60000]\tLoss: 0.115418\n",
            "Train Epoch: 2 [52480/60000]\tLoss: 0.123927\n",
            "Train Epoch: 2 [53120/60000]\tLoss: 0.073150\n",
            "Train Epoch: 2 [53760/60000]\tLoss: 0.136143\n",
            "Train Epoch: 2 [54400/60000]\tLoss: 0.536697\n",
            "Train Epoch: 2 [55040/60000]\tLoss: 0.241927\n",
            "Train Epoch: 2 [55680/60000]\tLoss: 0.297519\n",
            "Train Epoch: 2 [56320/60000]\tLoss: 0.300645\n",
            "Train Epoch: 2 [56960/60000]\tLoss: 0.226759\n",
            "Train Epoch: 2 [57600/60000]\tLoss: 0.158164\n",
            "Train Epoch: 2 [58240/60000]\tLoss: 0.272550\n",
            "Train Epoch: 2 [58880/60000]\tLoss: 0.143186\n",
            "Train Epoch: 2 [59520/60000]\tLoss: 0.124743\n",
            "\n",
            "Test set: Avg. loss: 0.0975, Accuracy: 9673/10000 (97%)\n",
            "\n",
            "Train Epoch: 3 [0/60000]\tLoss: 0.070772\n",
            "Train Epoch: 3 [640/60000]\tLoss: 0.138223\n",
            "Train Epoch: 3 [1280/60000]\tLoss: 0.218043\n",
            "Train Epoch: 3 [1920/60000]\tLoss: 0.267257\n",
            "Train Epoch: 3 [2560/60000]\tLoss: 0.217491\n",
            "Train Epoch: 3 [3200/60000]\tLoss: 0.120580\n",
            "Train Epoch: 3 [3840/60000]\tLoss: 0.077379\n",
            "Train Epoch: 3 [4480/60000]\tLoss: 0.256759\n",
            "Train Epoch: 3 [5120/60000]\tLoss: 0.146412\n",
            "Train Epoch: 3 [5760/60000]\tLoss: 0.181288\n",
            "Train Epoch: 3 [6400/60000]\tLoss: 0.251473\n",
            "Train Epoch: 3 [7040/60000]\tLoss: 0.253400\n",
            "Train Epoch: 3 [7680/60000]\tLoss: 0.132890\n",
            "Train Epoch: 3 [8320/60000]\tLoss: 0.129351\n",
            "Train Epoch: 3 [8960/60000]\tLoss: 0.178703\n",
            "Train Epoch: 3 [9600/60000]\tLoss: 0.059247\n",
            "Train Epoch: 3 [10240/60000]\tLoss: 0.179403\n",
            "Train Epoch: 3 [10880/60000]\tLoss: 0.067513\n",
            "Train Epoch: 3 [11520/60000]\tLoss: 0.145841\n",
            "Train Epoch: 3 [12160/60000]\tLoss: 0.184935\n",
            "Train Epoch: 3 [12800/60000]\tLoss: 0.132441\n",
            "Train Epoch: 3 [13440/60000]\tLoss: 0.288494\n",
            "Train Epoch: 3 [14080/60000]\tLoss: 0.171798\n",
            "Train Epoch: 3 [14720/60000]\tLoss: 0.160216\n",
            "Train Epoch: 3 [15360/60000]\tLoss: 0.215883\n",
            "Train Epoch: 3 [16000/60000]\tLoss: 0.135955\n",
            "Train Epoch: 3 [16640/60000]\tLoss: 0.272629\n",
            "Train Epoch: 3 [17280/60000]\tLoss: 0.220159\n",
            "Train Epoch: 3 [17920/60000]\tLoss: 0.366546\n",
            "Train Epoch: 3 [18560/60000]\tLoss: 0.198006\n",
            "Train Epoch: 3 [19200/60000]\tLoss: 0.117238\n",
            "Train Epoch: 3 [19840/60000]\tLoss: 0.269403\n",
            "Train Epoch: 3 [20480/60000]\tLoss: 0.065392\n",
            "Train Epoch: 3 [21120/60000]\tLoss: 0.284739\n",
            "Train Epoch: 3 [21760/60000]\tLoss: 0.057757\n",
            "Train Epoch: 3 [22400/60000]\tLoss: 0.057044\n",
            "Train Epoch: 3 [23040/60000]\tLoss: 0.118154\n",
            "Train Epoch: 3 [23680/60000]\tLoss: 0.098948\n",
            "Train Epoch: 3 [24320/60000]\tLoss: 0.153019\n",
            "Train Epoch: 3 [24960/60000]\tLoss: 0.216195\n",
            "Train Epoch: 3 [25600/60000]\tLoss: 0.149869\n",
            "Train Epoch: 3 [26240/60000]\tLoss: 0.019847\n",
            "Train Epoch: 3 [26880/60000]\tLoss: 0.370245\n",
            "Train Epoch: 3 [27520/60000]\tLoss: 0.151101\n",
            "Train Epoch: 3 [28160/60000]\tLoss: 0.101012\n",
            "Train Epoch: 3 [28800/60000]\tLoss: 0.199197\n",
            "Train Epoch: 3 [29440/60000]\tLoss: 0.126431\n",
            "Train Epoch: 3 [30080/60000]\tLoss: 0.088188\n",
            "Train Epoch: 3 [30720/60000]\tLoss: 0.161667\n",
            "Train Epoch: 3 [31360/60000]\tLoss: 0.396764\n",
            "Train Epoch: 3 [32000/60000]\tLoss: 0.113854\n",
            "Train Epoch: 3 [32640/60000]\tLoss: 0.235819\n",
            "Train Epoch: 3 [33280/60000]\tLoss: 0.224334\n",
            "Train Epoch: 3 [33920/60000]\tLoss: 0.094653\n",
            "Train Epoch: 3 [34560/60000]\tLoss: 0.081009\n",
            "Train Epoch: 3 [35200/60000]\tLoss: 0.230064\n",
            "Train Epoch: 3 [35840/60000]\tLoss: 0.068032\n",
            "Train Epoch: 3 [36480/60000]\tLoss: 0.362911\n",
            "Train Epoch: 3 [37120/60000]\tLoss: 0.133503\n",
            "Train Epoch: 3 [37760/60000]\tLoss: 0.087146\n",
            "Train Epoch: 3 [38400/60000]\tLoss: 0.176714\n",
            "Train Epoch: 3 [39040/60000]\tLoss: 0.285939\n",
            "Train Epoch: 3 [39680/60000]\tLoss: 0.268281\n",
            "Train Epoch: 3 [40320/60000]\tLoss: 0.060647\n",
            "Train Epoch: 3 [40960/60000]\tLoss: 0.167871\n",
            "Train Epoch: 3 [41600/60000]\tLoss: 0.090191\n",
            "Train Epoch: 3 [42240/60000]\tLoss: 0.347259\n",
            "Train Epoch: 3 [42880/60000]\tLoss: 0.123290\n",
            "Train Epoch: 3 [43520/60000]\tLoss: 0.226639\n",
            "Train Epoch: 3 [44160/60000]\tLoss: 0.237063\n",
            "Train Epoch: 3 [44800/60000]\tLoss: 0.083314\n",
            "Train Epoch: 3 [45440/60000]\tLoss: 0.103794\n",
            "Train Epoch: 3 [46080/60000]\tLoss: 0.034785\n",
            "Train Epoch: 3 [46720/60000]\tLoss: 0.191801\n",
            "Train Epoch: 3 [47360/60000]\tLoss: 0.144951\n",
            "Train Epoch: 3 [48000/60000]\tLoss: 0.083592\n",
            "Train Epoch: 3 [48640/60000]\tLoss: 0.097844\n",
            "Train Epoch: 3 [49280/60000]\tLoss: 0.161185\n",
            "Train Epoch: 3 [49920/60000]\tLoss: 0.229940\n",
            "Train Epoch: 3 [50560/60000]\tLoss: 0.106903\n",
            "Train Epoch: 3 [51200/60000]\tLoss: 0.067473\n",
            "Train Epoch: 3 [51840/60000]\tLoss: 0.234432\n",
            "Train Epoch: 3 [52480/60000]\tLoss: 0.202469\n",
            "Train Epoch: 3 [53120/60000]\tLoss: 0.053116\n",
            "Train Epoch: 3 [53760/60000]\tLoss: 0.264338\n",
            "Train Epoch: 3 [54400/60000]\tLoss: 0.081559\n",
            "Train Epoch: 3 [55040/60000]\tLoss: 0.129493\n",
            "Train Epoch: 3 [55680/60000]\tLoss: 0.056424\n",
            "Train Epoch: 3 [56320/60000]\tLoss: 0.234821\n",
            "Train Epoch: 3 [56960/60000]\tLoss: 0.288202\n",
            "Train Epoch: 3 [57600/60000]\tLoss: 0.087658\n",
            "Train Epoch: 3 [58240/60000]\tLoss: 0.065500\n",
            "Train Epoch: 3 [58880/60000]\tLoss: 0.225572\n",
            "Train Epoch: 3 [59520/60000]\tLoss: 0.218280\n",
            "\n",
            "Test set: Avg. loss: 0.0819, Accuracy: 9728/10000 (97%)\n",
            "\n"
          ]
        }
      ]
    },
    {
      "cell_type": "code",
      "source": [
        "# Run network on data we got before and show predictions\n",
        "output = model(example_data)\n",
        "\n",
        "fig = plt.figure()\n",
        "for i in range(10):\n",
        "  plt.subplot(5,5,i+1)\n",
        "  plt.tight_layout()\n",
        "  plt.imshow(example_data[i][0], cmap='gray', interpolation='none')\n",
        "  plt.title(\"Prediction: {}\".format(\n",
        "    output.data.max(1, keepdim=True)[1][i].item()))\n",
        "  plt.xticks([])\n",
        "  plt.yticks([])\n",
        "plt.show()"
      ],
      "metadata": {
        "id": "o7fRUAy9Se1B",
        "outputId": "9f5c7e35-b46e-4233-a2a7-a3f95dc55d25",
        "colab": {
          "base_uri": "https://localhost:8080/",
          "height": 262
        }
      },
      "execution_count": 22,
      "outputs": [
        {
          "output_type": "stream",
          "name": "stderr",
          "text": [
            "<ipython-input-16-e5d44321157c>:40: UserWarning: Implicit dimension choice for log_softmax has been deprecated. Change the call to include dim=X as an argument.\n",
            "  x = F.log_softmax(x)\n"
          ]
        },
        {
          "output_type": "display_data",
          "data": {
            "text/plain": [
              "<Figure size 640x480 with 10 Axes>"
            ],
            "image/png": "[encoded data removed]"
          },
          "metadata": {}
        }
      ]
    },
    {
      "cell_type": "code",
      "source": [],
      "metadata": {
        "id": "88aRFY_iH-JA"
      },
      "execution_count": null,
      "outputs": []
    }
  ]
}