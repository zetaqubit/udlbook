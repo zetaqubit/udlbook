{
  "nbformat": 4,
  "nbformat_minor": 0,
  "metadata": {
    "colab": {
      "provenance": [],
      "include_colab_link": true
    },
    "kernelspec": {
      "name": "python3",
      "display_name": "Python 3"
    },
    "language_info": {
      "name": "python"
    }
  },
  "cells": [
    {
      "cell_type": "markdown",
      "metadata": {
        "id": "view-in-github",
        "colab_type": "text"
      },
      "source": [
        "<a href=\"https://colab.research.google.com/github/zetaqubit/udlbook/blob/main/Notebooks/Chap11/11_2_Residual_Networks_soln.ipynb\" target=\"_parent\"><img src=\"https://colab.research.google.com/assets/colab-badge.svg\" alt=\"Open In Colab\"/></a>"
      ]
    },
    {
      "cell_type": "markdown",
      "source": [
        "# **Notebook 11.2: Residual Networks**\n",
        "\n",
        "This notebook adapts the networks for MNIST1D to use residual connections.\n",
        "\n",
        "Work through the cells below, running each cell in turn. In various places you will see the words \"TO DO\". Follow the instructions at these places and make predictions about what is going to happen or write code to complete the functions.\n",
        "\n",
        "Contact me at udlbookmail@gmail.com if you find any mistakes or have any suggestions.\n",
        "\n"
      ],
      "metadata": {
        "id": "t9vk9Elugvmi"
      }
    },
    {
      "cell_type": "code",
      "source": [
        "# Run this if you're in a Colab to make a local copy of the MNIST 1D repository\n",
        "!git clone https://github.com/greydanus/mnist1d"
      ],
      "metadata": {
        "id": "D5yLObtZCi9J",
        "outputId": "a92ce3f1-b4db-410d-84fa-515807e55031",
        "colab": {
          "base_uri": "https://localhost:8080/"
        }
      },
      "execution_count": 1,
      "outputs": [
        {
          "output_type": "stream",
          "name": "stdout",
          "text": [
            "Cloning into 'mnist1d'...\n",
            "remote: Enumerating objects: 155, done.\u001b[K\n",
            "remote: Counting objects: 100% (155/155), done.\u001b[K\n",
            "remote: Compressing objects: 100% (129/129), done.\u001b[K\n",
            "remote: Total 155 (delta 52), reused 123 (delta 26), pack-reused 0\u001b[K\n",
            "Receiving objects: 100% (155/155), 6.48 MiB | 20.79 MiB/s, done.\n",
            "Resolving deltas: 100% (52/52), done.\n"
          ]
        }
      ]
    },
    {
      "cell_type": "code",
      "source": [
        "import numpy as np\n",
        "import os\n",
        "import torch, torch.nn as nn\n",
        "from torch.utils.data import TensorDataset, DataLoader\n",
        "from torch.optim.lr_scheduler import StepLR\n",
        "import matplotlib.pyplot as plt\n",
        "import mnist1d\n",
        "import random"
      ],
      "metadata": {
        "id": "YrXWAH7sUWvU"
      },
      "execution_count": 2,
      "outputs": []
    },
    {
      "cell_type": "code",
      "source": [
        "args = mnist1d.data.get_dataset_args()\n",
        "data = mnist1d.data.get_dataset(args, path='./mnist1d_data.pkl', download=False, regenerate=False)\n",
        "\n",
        "# The training and test input and outputs are in\n",
        "# data['x'], data['y'], data['x_test'], and data['y_test']\n",
        "print(\"Examples in training set: {}\".format(len(data['y'])))\n",
        "print(\"Examples in test set: {}\".format(len(data['y_test'])))\n",
        "print(\"Length of each example: {}\".format(data['x'].shape[-1]))"
      ],
      "metadata": {
        "id": "twI72ZCrCt5z",
        "outputId": "e43228cb-a56c-4fa6-eb93-3c6d85751aec",
        "colab": {
          "base_uri": "https://localhost:8080/"
        }
      },
      "execution_count": 3,
      "outputs": [
        {
          "output_type": "stream",
          "name": "stdout",
          "text": [
            "Did or could not load data from ./mnist1d_data.pkl. Rebuilding dataset...\n",
            "Examples in training set: 4000\n",
            "Examples in test set: 1000\n",
            "Length of each example: 40\n"
          ]
        }
      ]
    },
    {
      "cell_type": "code",
      "source": [
        "# Load in the data\n",
        "train_data_x = data['x'].transpose()\n",
        "train_data_y = data['y']\n",
        "val_data_x = data['x_test'].transpose()\n",
        "val_data_y = data['y_test']\n",
        "# Print out sizes\n",
        "print(\"Train data: %d examples (columns), each of which has %d dimensions (rows)\"%((train_data_x.shape[1],train_data_x.shape[0])))\n",
        "print(\"Validation data: %d examples (columns), each of which has %d dimensions (rows)\"%((val_data_x.shape[1],val_data_x.shape[0])))"
      ],
      "metadata": {
        "id": "8bKADvLHbiV5",
        "outputId": "4944ecd1-e84c-4aa1-9bd3-0c00b942cb62",
        "colab": {
          "base_uri": "https://localhost:8080/"
        }
      },
      "execution_count": 4,
      "outputs": [
        {
          "output_type": "stream",
          "name": "stdout",
          "text": [
            "Train data: 4000 examples (columns), each of which has 40 dimensions (rows)\n",
            "Validation data: 1000 examples (columns), each of which has 40 dimensions (rows)\n"
          ]
        }
      ]
    },
    {
      "cell_type": "markdown",
      "source": [
        "Define the network"
      ],
      "metadata": {
        "id": "_sFvRDGrl4qe"
      }
    },
    {
      "cell_type": "code",
      "source": [
        "# There are 40 input dimensions and 10 output dimensions for this data\n",
        "# The inputs correspond to the 40 offsets in the MNIST1D template.\n",
        "D_i = 40\n",
        "# The outputs correspond to the 10 digits\n",
        "D_o = 10\n",
        "\n",
        "\n",
        "# We will adapt this model to have residual connections around the linear layers\n",
        "# This is the same model we used in practical 8.1, but we can't use the sequential\n",
        "# class for residual networks (which aren't strictly sequential).  Hence, I've rewritten\n",
        "# it as a model that inherits from a base class\n",
        "\n",
        "class ResidualNetwork(torch.nn.Module):\n",
        "  def __init__(self, input_size, output_size, hidden_size=100):\n",
        "    super(ResidualNetwork, self).__init__()\n",
        "    self.linear1 = nn.Linear(input_size, hidden_size)\n",
        "    self.linear2 = nn.Linear(hidden_size, hidden_size)\n",
        "    self.linear3 = nn.Linear(hidden_size, hidden_size)\n",
        "    self.linear4 = nn.Linear(hidden_size, output_size)\n",
        "    print(\"Initialized MLPBase model with {} parameters\".format(self.count_params()))\n",
        "\n",
        "  def count_params(self):\n",
        "    return sum([p.view(-1).shape[0] for p in self.parameters()])\n",
        "\n",
        "# # TODO -- Add residual connections to this model\n",
        "# # The order of operations should similar to figure 11.5b\n",
        "# # linear1 first, ReLU+linear2 in first residual block, ReLU+linear3 in second residual block), linear4 at end\n",
        "# # Replace this function\n",
        "  def forward(self, x):\n",
        "    x = self.linear1(x)\n",
        "    x = x + self.linear2(x.relu())\n",
        "    x = x + self.linear3(x.relu())\n",
        "    x = self.linear4(x)\n",
        "    return x\n"
      ],
      "metadata": {
        "id": "FslroPJJffrh"
      },
      "execution_count": 12,
      "outputs": []
    },
    {
      "cell_type": "code",
      "source": [
        "# He initialization of weights\n",
        "def weights_init(layer_in):\n",
        "  if isinstance(layer_in, nn.Linear):\n",
        "    nn.init.kaiming_uniform_(layer_in.weight)\n",
        "    layer_in.bias.data.fill_(0.0)"
      ],
      "metadata": {
        "id": "YgLaex1pfhqz"
      },
      "execution_count": 13,
      "outputs": []
    },
    {
      "cell_type": "code",
      "source": [
        "#Define the model\n",
        "model = ResidualNetwork(40, 10)\n",
        "\n",
        "# choose cross entropy loss function (equation 5.24 in the loss notes)\n",
        "loss_function = nn.CrossEntropyLoss()\n",
        "# construct SGD optimizer and initialize learning rate and momentum\n",
        "optimizer = torch.optim.SGD(model.parameters(), lr = 0.05, momentum=0.9)\n",
        "# object that decreases learning rate by half every 20 epochs\n",
        "scheduler = StepLR(optimizer, step_size=20, gamma=0.5)\n",
        "# convert data to torch tensors\n",
        "x_train = torch.tensor(train_data_x.transpose().astype('float32'))\n",
        "y_train = torch.tensor(train_data_y.astype('long'))\n",
        "x_val= torch.tensor(val_data_x.transpose().astype('float32'))\n",
        "y_val = torch.tensor(val_data_y.astype('long'))\n",
        "\n",
        "# load the data into a class that creates the batches\n",
        "data_loader = DataLoader(TensorDataset(x_train,y_train), batch_size=100, shuffle=True, worker_init_fn=np.random.seed(1))\n",
        "\n",
        "# Initialize model weights\n",
        "model.apply(weights_init)\n",
        "\n",
        "# loop over the dataset n_epoch times\n",
        "n_epoch = 100\n",
        "# store the loss and the % correct at each epoch\n",
        "losses_train = np.zeros((n_epoch))\n",
        "errors_train = np.zeros((n_epoch))\n",
        "losses_val = np.zeros((n_epoch))\n",
        "errors_val = np.zeros((n_epoch))\n",
        "\n",
        "for epoch in range(n_epoch):\n",
        "  # loop over batches\n",
        "  for i, data in enumerate(data_loader):\n",
        "    # retrieve inputs and labels for this batch\n",
        "    x_batch, y_batch = data\n",
        "    # zero the parameter gradients\n",
        "    optimizer.zero_grad()\n",
        "    # forward pass -- calculate model output\n",
        "    pred = model(x_batch)\n",
        "    # compute the loss\n",
        "    loss = loss_function(pred, y_batch)\n",
        "    # backward pass\n",
        "    loss.backward()\n",
        "    # SGD update\n",
        "    optimizer.step()\n",
        "\n",
        "  # Run whole dataset to get statistics -- normally wouldn't do this\n",
        "  pred_train = model(x_train)\n",
        "  pred_val = model(x_val)\n",
        "  _, predicted_train_class = torch.max(pred_train.data, 1)\n",
        "  _, predicted_val_class = torch.max(pred_val.data, 1)\n",
        "  errors_train[epoch] = 100 - 100 * (predicted_train_class == y_train).float().sum() / len(y_train)\n",
        "  errors_val[epoch]= 100 - 100 * (predicted_val_class == y_val).float().sum() / len(y_val)\n",
        "  losses_train[epoch] = loss_function(pred_train, y_train).item()\n",
        "  losses_val[epoch]= loss_function(pred_val, y_val).item()\n",
        "  print(f'Epoch {epoch:5d}, train loss {losses_train[epoch]:.6f}, train error {errors_train[epoch]:3.2f},  val loss {losses_val[epoch]:.6f}, percent error {errors_val[epoch]:3.2f}')\n",
        "\n",
        "  # tell scheduler to consider updating learning rate\n",
        "  scheduler.step()"
      ],
      "metadata": {
        "id": "NYw8I_3mmX5c",
        "outputId": "ef3912bf-61c9-497a-d71d-83f3350ce00f",
        "colab": {
          "base_uri": "https://localhost:8080/"
        }
      },
      "execution_count": 14,
      "outputs": [
        {
          "output_type": "stream",
          "name": "stdout",
          "text": [
            "Initialized MLPBase model with 25310 parameters\n",
            "Epoch     0, train loss 1.673141, train error 61.95,  val loss 1.810173, percent error 67.60\n",
            "Epoch     1, train loss 1.203701, train error 46.15,  val loss 1.357433, percent error 54.10\n",
            "Epoch     2, train loss 1.040455, train error 39.50,  val loss 1.236835, percent error 48.90\n",
            "Epoch     3, train loss 0.872899, train error 33.10,  val loss 1.153781, percent error 45.80\n",
            "Epoch     4, train loss 0.819755, train error 30.53,  val loss 1.107391, percent error 42.00\n",
            "Epoch     5, train loss 0.707877, train error 25.57,  val loss 1.109374, percent error 41.60\n",
            "Epoch     6, train loss 0.664500, train error 25.38,  val loss 1.140108, percent error 41.40\n",
            "Epoch     7, train loss 0.608575, train error 23.07,  val loss 1.109389, percent error 40.70\n",
            "Epoch     8, train loss 0.572215, train error 21.30,  val loss 1.172320, percent error 40.40\n",
            "Epoch     9, train loss 0.431828, train error 15.88,  val loss 1.074625, percent error 37.60\n",
            "Epoch    10, train loss 0.446277, train error 16.60,  val loss 1.168095, percent error 38.20\n",
            "Epoch    11, train loss 0.403042, train error 14.90,  val loss 1.233336, percent error 37.00\n",
            "Epoch    12, train loss 0.565016, train error 20.00,  val loss 1.418206, percent error 39.10\n",
            "Epoch    13, train loss 0.453185, train error 16.65,  val loss 1.236303, percent error 37.00\n",
            "Epoch    14, train loss 0.525529, train error 19.18,  val loss 1.439766, percent error 38.10\n",
            "Epoch    15, train loss 0.328596, train error 12.57,  val loss 1.238829, percent error 34.50\n",
            "Epoch    16, train loss 0.371109, train error 13.40,  val loss 1.411478, percent error 35.00\n",
            "Epoch    17, train loss 0.322731, train error 11.62,  val loss 1.426562, percent error 35.20\n",
            "Epoch    18, train loss 0.329441, train error 12.47,  val loss 1.419484, percent error 33.40\n",
            "Epoch    19, train loss 0.281754, train error 10.35,  val loss 1.509291, percent error 34.70\n",
            "Epoch    20, train loss 0.083360, train error 1.88,  val loss 1.274860, percent error 33.00\n",
            "Epoch    21, train loss 0.041391, train error 0.40,  val loss 1.252433, percent error 30.80\n",
            "Epoch    22, train loss 0.025577, train error 0.15,  val loss 1.251800, percent error 30.50\n",
            "Epoch    23, train loss 0.019807, train error 0.05,  val loss 1.296977, percent error 30.50\n",
            "Epoch    24, train loss 0.013736, train error 0.00,  val loss 1.325824, percent error 30.00\n",
            "Epoch    25, train loss 0.011288, train error 0.00,  val loss 1.353988, percent error 30.40\n",
            "Epoch    26, train loss 0.009542, train error 0.00,  val loss 1.377639, percent error 29.90\n",
            "Epoch    27, train loss 0.008418, train error 0.00,  val loss 1.398651, percent error 30.00\n",
            "Epoch    28, train loss 0.007548, train error 0.00,  val loss 1.417394, percent error 30.00\n",
            "Epoch    29, train loss 0.006887, train error 0.00,  val loss 1.432377, percent error 29.90\n",
            "Epoch    30, train loss 0.006220, train error 0.00,  val loss 1.448294, percent error 29.90\n",
            "Epoch    31, train loss 0.005716, train error 0.00,  val loss 1.467005, percent error 30.00\n",
            "Epoch    32, train loss 0.005299, train error 0.00,  val loss 1.477815, percent error 29.50\n",
            "Epoch    33, train loss 0.004935, train error 0.00,  val loss 1.497965, percent error 30.00\n",
            "Epoch    34, train loss 0.004589, train error 0.00,  val loss 1.510549, percent error 29.80\n",
            "Epoch    35, train loss 0.004303, train error 0.00,  val loss 1.523553, percent error 30.00\n",
            "Epoch    36, train loss 0.004067, train error 0.00,  val loss 1.534619, percent error 29.60\n",
            "Epoch    37, train loss 0.003832, train error 0.00,  val loss 1.546047, percent error 29.70\n",
            "Epoch    38, train loss 0.003634, train error 0.00,  val loss 1.552843, percent error 29.70\n",
            "Epoch    39, train loss 0.003444, train error 0.00,  val loss 1.565650, percent error 29.70\n",
            "Epoch    40, train loss 0.003359, train error 0.00,  val loss 1.570841, percent error 29.80\n",
            "Epoch    41, train loss 0.003278, train error 0.00,  val loss 1.576079, percent error 29.70\n",
            "Epoch    42, train loss 0.003203, train error 0.00,  val loss 1.580000, percent error 29.70\n",
            "Epoch    43, train loss 0.003132, train error 0.00,  val loss 1.585113, percent error 29.80\n",
            "Epoch    44, train loss 0.003062, train error 0.00,  val loss 1.590488, percent error 29.70\n",
            "Epoch    45, train loss 0.002996, train error 0.00,  val loss 1.594880, percent error 29.70\n",
            "Epoch    46, train loss 0.002933, train error 0.00,  val loss 1.598648, percent error 29.60\n",
            "Epoch    47, train loss 0.002872, train error 0.00,  val loss 1.603596, percent error 29.70\n",
            "Epoch    48, train loss 0.002815, train error 0.00,  val loss 1.607067, percent error 29.60\n",
            "Epoch    49, train loss 0.002758, train error 0.00,  val loss 1.611540, percent error 29.70\n",
            "Epoch    50, train loss 0.002704, train error 0.00,  val loss 1.615063, percent error 29.80\n",
            "Epoch    51, train loss 0.002651, train error 0.00,  val loss 1.619313, percent error 29.80\n",
            "Epoch    52, train loss 0.002600, train error 0.00,  val loss 1.623852, percent error 29.80\n",
            "Epoch    53, train loss 0.002553, train error 0.00,  val loss 1.628027, percent error 29.70\n",
            "Epoch    54, train loss 0.002506, train error 0.00,  val loss 1.630910, percent error 29.80\n",
            "Epoch    55, train loss 0.002460, train error 0.00,  val loss 1.634919, percent error 29.70\n",
            "Epoch    56, train loss 0.002416, train error 0.00,  val loss 1.638918, percent error 29.70\n",
            "Epoch    57, train loss 0.002374, train error 0.00,  val loss 1.641914, percent error 29.70\n",
            "Epoch    58, train loss 0.002334, train error 0.00,  val loss 1.645666, percent error 29.70\n",
            "Epoch    59, train loss 0.002295, train error 0.00,  val loss 1.650388, percent error 29.80\n",
            "Epoch    60, train loss 0.002274, train error 0.00,  val loss 1.652020, percent error 29.80\n",
            "Epoch    61, train loss 0.002255, train error 0.00,  val loss 1.653642, percent error 29.80\n",
            "Epoch    62, train loss 0.002236, train error 0.00,  val loss 1.654898, percent error 29.70\n",
            "Epoch    63, train loss 0.002218, train error 0.00,  val loss 1.656617, percent error 29.80\n",
            "Epoch    64, train loss 0.002199, train error 0.00,  val loss 1.658426, percent error 29.70\n",
            "Epoch    65, train loss 0.002182, train error 0.00,  val loss 1.660282, percent error 29.70\n",
            "Epoch    66, train loss 0.002164, train error 0.00,  val loss 1.661712, percent error 29.80\n",
            "Epoch    67, train loss 0.002147, train error 0.00,  val loss 1.663371, percent error 29.60\n",
            "Epoch    68, train loss 0.002130, train error 0.00,  val loss 1.665158, percent error 29.80\n",
            "Epoch    69, train loss 0.002113, train error 0.00,  val loss 1.666792, percent error 29.90\n",
            "Epoch    70, train loss 0.002096, train error 0.00,  val loss 1.668491, percent error 29.80\n",
            "Epoch    71, train loss 0.002080, train error 0.00,  val loss 1.669931, percent error 29.90\n",
            "Epoch    72, train loss 0.002064, train error 0.00,  val loss 1.671510, percent error 29.90\n",
            "Epoch    73, train loss 0.002048, train error 0.00,  val loss 1.673123, percent error 29.90\n",
            "Epoch    74, train loss 0.002033, train error 0.00,  val loss 1.674490, percent error 29.90\n",
            "Epoch    75, train loss 0.002017, train error 0.00,  val loss 1.676491, percent error 29.90\n",
            "Epoch    76, train loss 0.002002, train error 0.00,  val loss 1.678015, percent error 29.90\n",
            "Epoch    77, train loss 0.001987, train error 0.00,  val loss 1.679105, percent error 29.90\n",
            "Epoch    78, train loss 0.001972, train error 0.00,  val loss 1.680609, percent error 29.90\n",
            "Epoch    79, train loss 0.001958, train error 0.00,  val loss 1.682278, percent error 29.90\n",
            "Epoch    80, train loss 0.001951, train error 0.00,  val loss 1.683195, percent error 29.90\n",
            "Epoch    81, train loss 0.001943, train error 0.00,  val loss 1.683899, percent error 29.90\n",
            "Epoch    82, train loss 0.001936, train error 0.00,  val loss 1.684474, percent error 29.90\n",
            "Epoch    83, train loss 0.001929, train error 0.00,  val loss 1.685139, percent error 29.90\n",
            "Epoch    84, train loss 0.001922, train error 0.00,  val loss 1.686028, percent error 29.80\n",
            "Epoch    85, train loss 0.001915, train error 0.00,  val loss 1.686764, percent error 29.90\n",
            "Epoch    86, train loss 0.001909, train error 0.00,  val loss 1.687531, percent error 29.90\n",
            "Epoch    87, train loss 0.001902, train error 0.00,  val loss 1.688265, percent error 29.90\n",
            "Epoch    88, train loss 0.001895, train error 0.00,  val loss 1.689005, percent error 29.90\n",
            "Epoch    89, train loss 0.001888, train error 0.00,  val loss 1.689834, percent error 29.90\n",
            "Epoch    90, train loss 0.001881, train error 0.00,  val loss 1.690528, percent error 29.90\n",
            "Epoch    91, train loss 0.001875, train error 0.00,  val loss 1.691278, percent error 29.90\n",
            "Epoch    92, train loss 0.001868, train error 0.00,  val loss 1.692010, percent error 29.90\n",
            "Epoch    93, train loss 0.001862, train error 0.00,  val loss 1.692839, percent error 29.90\n",
            "Epoch    94, train loss 0.001855, train error 0.00,  val loss 1.693495, percent error 29.80\n",
            "Epoch    95, train loss 0.001849, train error 0.00,  val loss 1.694242, percent error 29.80\n",
            "Epoch    96, train loss 0.001842, train error 0.00,  val loss 1.695130, percent error 29.90\n",
            "Epoch    97, train loss 0.001836, train error 0.00,  val loss 1.695729, percent error 29.90\n",
            "Epoch    98, train loss 0.001829, train error 0.00,  val loss 1.696496, percent error 29.90\n",
            "Epoch    99, train loss 0.001823, train error 0.00,  val loss 1.697244, percent error 30.00\n"
          ]
        }
      ]
    },
    {
      "cell_type": "code",
      "source": [
        "# Plot the results\n",
        "fig, ax = plt.subplots()\n",
        "ax.plot(errors_train,'r-',label='train')\n",
        "ax.plot(errors_val,'b-',label='test')\n",
        "ax.set_ylim(0,100); ax.set_xlim(0,n_epoch)\n",
        "ax.set_xlabel('Epoch'); ax.set_ylabel('Error')\n",
        "ax.set_title('TrainError %3.2f, Val Error %3.2f'%(errors_train[-1],errors_val[-1]))\n",
        "ax.legend()\n",
        "plt.show()"
      ],
      "metadata": {
        "id": "CcP_VyEmE2sv",
        "outputId": "e21937e9-5fb7-4da5-ef94-0cce824674d3",
        "colab": {
          "base_uri": "https://localhost:8080/",
          "height": 472
        }
      },
      "execution_count": 15,
      "outputs": [
        {
          "output_type": "display_data",
          "data": {
            "text/plain": [
              "<Figure size 640x480 with 1 Axes>"
            ],
            "image/png": "[encoded data removed]"
          },
          "metadata": {}
        }
      ]
    },
    {
      "cell_type": "markdown",
      "source": [
        "The primary motivation of residual networks is to allow training of much deeper networks.   \n",
        "\n",
        "TODO: Try running this network with and without the residual connections.  Does adding the residual connections change the performance?\n",
        "\n",
        "A: Only a little bit. Test errors are:\n",
        "* 31.5% without residual connections\n",
        "* 30.0% with residual connections"
      ],
      "metadata": {
        "id": "wMmqhmxuAx0M"
      }
    }
  ]
}