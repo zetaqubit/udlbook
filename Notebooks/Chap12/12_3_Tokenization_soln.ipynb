{
  "nbformat": 4,
  "nbformat_minor": 0,
  "metadata": {
    "colab": {
      "provenance": [],
      "include_colab_link": true
    },
    "kernelspec": {
      "name": "python3",
      "display_name": "Python 3"
    },
    "language_info": {
      "name": "python"
    }
  },
  "cells": [
    {
      "cell_type": "markdown",
      "metadata": {
        "id": "view-in-github",
        "colab_type": "text"
      },
      "source": [
        "<a href=\"https://colab.research.google.com/github/zetaqubit/udlbook/blob/main/Notebooks/Chap12/12_3_Tokenization_soln.ipynb\" target=\"_parent\"><img src=\"https://colab.research.google.com/assets/colab-badge.svg\" alt=\"Open In Colab\"/></a>"
      ]
    },
    {
      "cell_type": "markdown",
      "source": [
        "# **Notebook 12.3: Tokenization**\n",
        "\n",
        "This notebook builds set of tokens from a text string as in figure 12.8 of the book.\n",
        "\n",
        "Work through the cells below, running each cell in turn. In various places you will see the words \"TO DO\". Follow the instructions at these places and make predictions about what is going to happen or write code to complete the functions.\n",
        "\n",
        "I adapted this code from *SOMEWHERE*.  If anyone recognizes it, can you let me know and I will give the proper attribution or rewrite if the license is not permissive.\n",
        "\n",
        "Contact me at udlbookmail@gmail.com if you find any mistakes or have any suggestions.\n",
        "\n"
      ],
      "metadata": {
        "id": "t9vk9Elugvmi"
      }
    },
    {
      "cell_type": "code",
      "source": [
        "import re, collections"
      ],
      "metadata": {
        "id": "3_WkaFO3OfLi"
      },
      "execution_count": 1,
      "outputs": []
    },
    {
      "cell_type": "code",
      "source": [
        "text = \"a sailor went to sea sea sea \"+\\\n",
        "                  \"to see what he could see see see \"+\\\n",
        "                  \"but all that he could see see see \"+\\\n",
        "                  \"was the bottom of the deep blue sea sea sea\""
      ],
      "metadata": {
        "id": "tVZVuauIXmJk"
      },
      "execution_count": 2,
      "outputs": []
    },
    {
      "cell_type": "markdown",
      "source": [
        "Tokenize the input sentence To begin with the tokens are the individual letters and the </w> whitespace token. So, we represent each word in terms of these tokens with spaces between the tokens to delineate them.\n",
        "\n",
        "The tokenized text is stored in a structure that represents each word as tokens together with the count of how often that word occurs.  We'll call this the *vocabulary*."
      ],
      "metadata": {
        "id": "fF2RBrouWV5w"
      }
    },
    {
      "cell_type": "code",
      "source": [
        "def initialize_vocabulary(text):\n",
        "  vocab = collections.defaultdict(int)\n",
        "  words = text.strip().split()\n",
        "  for word in words:\n",
        "      vocab[' '.join(list(word)) + ' </w>'] += 1\n",
        "  return vocab"
      ],
      "metadata": {
        "id": "OfvXkLSARk4_"
      },
      "execution_count": 3,
      "outputs": []
    },
    {
      "cell_type": "code",
      "source": [
        "vocab = initialize_vocabulary(text)\n",
        "print('Vocabulary: {}'.format(vocab))\n",
        "print('Size of vocabulary: {}'.format(len(vocab)))"
      ],
      "metadata": {
        "id": "aydmNqaoOpSm",
        "outputId": "1de601d1-3d0f-4726-c7d2-021c5f77ba0f",
        "colab": {
          "base_uri": "https://localhost:8080/"
        }
      },
      "execution_count": 4,
      "outputs": [
        {
          "output_type": "stream",
          "name": "stdout",
          "text": [
            "Vocabulary: defaultdict(<class 'int'>, {'a </w>': 1, 's a i l o r </w>': 1, 'w e n t </w>': 1, 't o </w>': 2, 's e a </w>': 6, 's e e </w>': 7, 'w h a t </w>': 1, 'h e </w>': 2, 'c o u l d </w>': 2, 'b u t </w>': 1, 'a l l </w>': 1, 't h a t </w>': 1, 'w a s </w>': 1, 't h e </w>': 2, 'b o t t o m </w>': 1, 'o f </w>': 1, 'd e e p </w>': 1, 'b l u e </w>': 1})\n",
            "Size of vocabulary: 18\n"
          ]
        }
      ]
    },
    {
      "cell_type": "markdown",
      "source": [
        "Find all the tokens in the current vocabulary and their frequencies"
      ],
      "metadata": {
        "id": "fJAiCjphWsI9"
      }
    },
    {
      "cell_type": "code",
      "source": [
        "def get_tokens_and_frequencies(vocab):\n",
        "  tokens = collections.defaultdict(int)\n",
        "  for word, freq in vocab.items():\n",
        "      word_tokens = word.split()\n",
        "      for token in word_tokens:\n",
        "          tokens[token] += freq\n",
        "  return tokens"
      ],
      "metadata": {
        "id": "qYi6F_K3RYsW"
      },
      "execution_count": 5,
      "outputs": []
    },
    {
      "cell_type": "code",
      "source": [
        "tokens = get_tokens_and_frequencies(vocab)\n",
        "print('Tokens: {}'.format(tokens))\n",
        "print('Number of tokens: {}'.format(len(tokens)))"
      ],
      "metadata": {
        "id": "Y4LCVGnvXIwp",
        "outputId": "49c82453-c7ae-4a2f-edcf-2249ccaa2c20",
        "colab": {
          "base_uri": "https://localhost:8080/"
        }
      },
      "execution_count": 6,
      "outputs": [
        {
          "output_type": "stream",
          "name": "stdout",
          "text": [
            "Tokens: defaultdict(<class 'int'>, {'a': 12, '</w>': 33, 's': 15, 'i': 1, 'l': 6, 'o': 8, 'r': 1, 'w': 3, 'e': 28, 'n': 1, 't': 11, 'h': 6, 'c': 2, 'u': 4, 'd': 3, 'b': 3, 'm': 1, 'f': 1, 'p': 1})\n",
            "Number of tokens: 19\n"
          ]
        }
      ]
    },
    {
      "cell_type": "markdown",
      "source": [
        "Find each pair of adjacent tokens in the vocabulary\n",
        "and count them.  We will subsequently merge the most frequently occurring pair."
      ],
      "metadata": {
        "id": "_-Rh1mD_Ww3b"
      }
    },
    {
      "cell_type": "code",
      "source": [
        "def get_pairs_and_counts(vocab):\n",
        "    pairs = collections.defaultdict(int)\n",
        "    for word, freq in vocab.items():\n",
        "        symbols = word.split()\n",
        "        for i in range(len(symbols)-1):\n",
        "            pairs[symbols[i],symbols[i+1]] += freq\n",
        "    return pairs"
      ],
      "metadata": {
        "id": "OqJTB3UFYubH"
      },
      "execution_count": 7,
      "outputs": []
    },
    {
      "cell_type": "code",
      "source": [
        "pairs = get_pairs_and_counts(vocab)\n",
        "print('Pairs: {}'.format(pairs))\n",
        "print('Number of distinct pairs: {}'.format(len(pairs)))\n",
        "\n",
        "most_frequent_pair = max(pairs, key=pairs.get)\n",
        "print('Most frequent pair: {}'.format(most_frequent_pair))"
      ],
      "metadata": {
        "id": "d-zm0JBcZSjS",
        "outputId": "cf79c0fd-d49c-4c79-8d1d-1e11eb879d3b",
        "colab": {
          "base_uri": "https://localhost:8080/"
        }
      },
      "execution_count": 8,
      "outputs": [
        {
          "output_type": "stream",
          "name": "stdout",
          "text": [
            "Pairs: defaultdict(<class 'int'>, {('a', '</w>'): 7, ('s', 'a'): 1, ('a', 'i'): 1, ('i', 'l'): 1, ('l', 'o'): 1, ('o', 'r'): 1, ('r', '</w>'): 1, ('w', 'e'): 1, ('e', 'n'): 1, ('n', 't'): 1, ('t', '</w>'): 4, ('t', 'o'): 3, ('o', '</w>'): 2, ('s', 'e'): 13, ('e', 'a'): 6, ('e', 'e'): 8, ('e', '</w>'): 12, ('w', 'h'): 1, ('h', 'a'): 2, ('a', 't'): 2, ('h', 'e'): 4, ('c', 'o'): 2, ('o', 'u'): 2, ('u', 'l'): 2, ('l', 'd'): 2, ('d', '</w>'): 2, ('b', 'u'): 1, ('u', 't'): 1, ('a', 'l'): 1, ('l', 'l'): 1, ('l', '</w>'): 1, ('t', 'h'): 3, ('w', 'a'): 1, ('a', 's'): 1, ('s', '</w>'): 1, ('b', 'o'): 1, ('o', 't'): 1, ('t', 't'): 1, ('o', 'm'): 1, ('m', '</w>'): 1, ('o', 'f'): 1, ('f', '</w>'): 1, ('d', 'e'): 1, ('e', 'p'): 1, ('p', '</w>'): 1, ('b', 'l'): 1, ('l', 'u'): 1, ('u', 'e'): 1})\n",
            "Number of distinct pairs: 48\n",
            "Most frequent pair: ('s', 'e')\n"
          ]
        }
      ]
    },
    {
      "cell_type": "markdown",
      "source": [
        "Merge the instances of the best pair in the vocabulary"
      ],
      "metadata": {
        "id": "pcborzqIXQFS"
      }
    },
    {
      "cell_type": "code",
      "source": [
        "def merge_pair_in_vocabulary(pair, vocab_in):\n",
        "    vocab_out = {}\n",
        "    bigram = re.escape(' '.join(pair))\n",
        "    p = re.compile(r'(?<!\\S)' + bigram + r'(?!\\S)')\n",
        "    for word in vocab_in:\n",
        "        word_out = p.sub(''.join(pair), word)\n",
        "        vocab_out[word_out] = vocab_in[word]\n",
        "    return vocab_out"
      ],
      "metadata": {
        "id": "xQI6NALdWQZX"
      },
      "execution_count": 9,
      "outputs": []
    },
    {
      "cell_type": "code",
      "source": [
        "vocab = merge_pair_in_vocabulary(most_frequent_pair, vocab)\n",
        "print('Vocabulary: {}'.format(vocab))\n",
        "print('Size of vocabulary: {}'.format(len(vocab)))"
      ],
      "metadata": {
        "id": "TRYeBZI3ZULu",
        "outputId": "9ca3607e-1005-40a0-e854-6d57133bcf5f",
        "colab": {
          "base_uri": "https://localhost:8080/"
        }
      },
      "execution_count": 10,
      "outputs": [
        {
          "output_type": "stream",
          "name": "stdout",
          "text": [
            "Vocabulary: {'a </w>': 1, 's a i l o r </w>': 1, 'w e n t </w>': 1, 't o </w>': 2, 'se a </w>': 6, 'se e </w>': 7, 'w h a t </w>': 1, 'h e </w>': 2, 'c o u l d </w>': 2, 'b u t </w>': 1, 'a l l </w>': 1, 't h a t </w>': 1, 'w a s </w>': 1, 't h e </w>': 2, 'b o t t o m </w>': 1, 'o f </w>': 1, 'd e e p </w>': 1, 'b l u e </w>': 1}\n",
            "Size of vocabulary: 18\n"
          ]
        }
      ]
    },
    {
      "cell_type": "markdown",
      "source": [
        "Update the tokens, which now include the best token 'se'"
      ],
      "metadata": {
        "id": "bkhUx3GeXwba"
      }
    },
    {
      "cell_type": "code",
      "source": [
        "tokens = get_tokens_and_frequencies(vocab)\n",
        "print('Tokens: {}'.format(tokens))\n",
        "print('Number of tokens: {}'.format(len(tokens)))"
      ],
      "metadata": {
        "id": "Fqj-vQWeXxQi",
        "outputId": "7a664bf8-a385-4b9c-b20a-b7806c03854f",
        "colab": {
          "base_uri": "https://localhost:8080/"
        }
      },
      "execution_count": 11,
      "outputs": [
        {
          "output_type": "stream",
          "name": "stdout",
          "text": [
            "Tokens: defaultdict(<class 'int'>, {'a': 12, '</w>': 33, 's': 2, 'i': 1, 'l': 6, 'o': 8, 'r': 1, 'w': 3, 'e': 15, 'n': 1, 't': 11, 'se': 13, 'h': 6, 'c': 2, 'u': 4, 'd': 3, 'b': 3, 'm': 1, 'f': 1, 'p': 1})\n",
            "Number of tokens: 20\n"
          ]
        }
      ]
    },
    {
      "cell_type": "markdown",
      "source": [
        "Now let's write the full tokenization routine"
      ],
      "metadata": {
        "id": "K_hKp2kSXXS1"
      }
    },
    {
      "cell_type": "code",
      "source": [
        "# TODO -- write this routine by filling in this missing parts,\n",
        "# calling the above routines\n",
        "def tokenize(text, num_merges):\n",
        "  # Initialize the vocabulary from the input text\n",
        "  vocab = initialize_vocabulary(text)\n",
        "\n",
        "  for i in range(num_merges):\n",
        "    # Find the tokens and how often they occur in the vocabulary\n",
        "    tokens = get_tokens_and_frequencies(vocab)\n",
        "\n",
        "    # Find the pairs of adjacent tokens and their counts\n",
        "    pairs = get_pairs_and_counts(vocab)\n",
        "\n",
        "    # Find the most frequent pair\n",
        "    most_frequent_pair = max(pairs, key=pairs.get)\n",
        "    print('Most frequent pair: {}'.format(most_frequent_pair))\n",
        "\n",
        "    # Merge the code in the vocabulary\n",
        "    vocab = merge_pair_in_vocabulary(most_frequent_pair, vocab)\n",
        "\n",
        "  # Find the tokens and how often they occur in the vocabulary one last time\n",
        "  tokens = get_tokens_and_frequencies(vocab)\n",
        "\n",
        "  return tokens, vocab"
      ],
      "metadata": {
        "id": "U_1SkQRGQ8f3"
      },
      "execution_count": 12,
      "outputs": []
    },
    {
      "cell_type": "code",
      "source": [
        "tokens, vocab = tokenize(text, num_merges=22)"
      ],
      "metadata": {
        "id": "w0EkHTrER_-I",
        "outputId": "3a53b20e-8708-4ed2-f19a-c958aba1410c",
        "colab": {
          "base_uri": "https://localhost:8080/"
        }
      },
      "execution_count": 13,
      "outputs": [
        {
          "output_type": "stream",
          "name": "stdout",
          "text": [
            "Most frequent pair: ('s', 'e')\n",
            "Most frequent pair: ('e', '</w>')\n",
            "Most frequent pair: ('a', '</w>')\n",
            "Most frequent pair: ('se', 'e</w>')\n",
            "Most frequent pair: ('se', 'a</w>')\n",
            "Most frequent pair: ('t', '</w>')\n",
            "Most frequent pair: ('h', 'e</w>')\n",
            "Most frequent pair: ('t', 'o')\n",
            "Most frequent pair: ('to', '</w>')\n",
            "Most frequent pair: ('h', 'a')\n",
            "Most frequent pair: ('ha', 't</w>')\n",
            "Most frequent pair: ('c', 'o')\n",
            "Most frequent pair: ('co', 'u')\n",
            "Most frequent pair: ('cou', 'l')\n",
            "Most frequent pair: ('coul', 'd')\n",
            "Most frequent pair: ('could', '</w>')\n",
            "Most frequent pair: ('t', 'he</w>')\n",
            "Most frequent pair: ('s', 'a')\n",
            "Most frequent pair: ('sa', 'i')\n",
            "Most frequent pair: ('sai', 'l')\n",
            "Most frequent pair: ('sail', 'o')\n",
            "Most frequent pair: ('sailo', 'r')\n"
          ]
        }
      ]
    },
    {
      "cell_type": "code",
      "source": [
        "print('Tokens: {}'.format(tokens))\n",
        "print('Number of tokens: {}'.format(len(tokens)))\n",
        "print('Vocabulary: {}'.format(vocab))\n",
        "print('Size of vocabulary: {}'.format(len(vocab)))"
      ],
      "metadata": {
        "id": "moqDtTzIb-NG",
        "outputId": "d1ffb03d-ec0d-4a40-8297-3900aa13a8ef",
        "colab": {
          "base_uri": "https://localhost:8080/"
        }
      },
      "execution_count": 14,
      "outputs": [
        {
          "output_type": "stream",
          "name": "stdout",
          "text": [
            "Tokens: defaultdict(<class 'int'>, {'a</w>': 1, 'sailor': 1, '</w>': 6, 'w': 3, 'e': 3, 'n': 1, 't</w>': 2, 'to</w>': 2, 'sea</w>': 6, 'see</w>': 7, 'hat</w>': 2, 'he</w>': 2, 'could</w>': 2, 'b': 3, 'u': 2, 'a': 2, 'l': 3, 't': 2, 's': 1, 'the</w>': 2, 'o': 2, 'to': 1, 'm': 1, 'f': 1, 'd': 1, 'p': 1, 'e</w>': 1})\n",
            "Number of tokens: 27\n",
            "Vocabulary: {'a</w>': 1, 'sailor </w>': 1, 'w e n t</w>': 1, 'to</w>': 2, 'sea</w>': 6, 'see</w>': 7, 'w hat</w>': 1, 'he</w>': 2, 'could</w>': 2, 'b u t</w>': 1, 'a l l </w>': 1, 't hat</w>': 1, 'w a s </w>': 1, 'the</w>': 2, 'b o t to m </w>': 1, 'o f </w>': 1, 'd e e p </w>': 1, 'b l u e</w>': 1}\n",
            "Size of vocabulary: 18\n"
          ]
        }
      ]
    },
    {
      "cell_type": "markdown",
      "source": [
        "TODO - Consider the input text:\n",
        "\n",
        "\"How much wood could a woodchuck chuck if a woodchuck could chuck wood\"\n",
        "\n",
        "How many tokens will there be initially and what will they be?\n",
        "How many tokens will there be if we run the tokenization routine for the maximum number of iterations (merges)?\n",
        "\n",
        "When you've made your predictions, run the code and see if you are correct."
      ],
      "metadata": {
        "id": "jOW_HJtMdAxd"
      }
    },
    {
      "cell_type": "code",
      "source": [
        "text2 = 'How much wood could a woodchuck chuck if a woodchuck could chuck wood'\n",
        "tokens2, vocab2 = tokenize(text2, num_merges=22)"
      ],
      "metadata": {
        "id": "2-H47B2H7mxD",
        "outputId": "35169255-e1f3-4b76-f7e5-f6bb7661d48a",
        "colab": {
          "base_uri": "https://localhost:8080/"
        }
      },
      "execution_count": 16,
      "outputs": [
        {
          "output_type": "stream",
          "name": "stdout",
          "text": [
            "Most frequent pair: ('u', 'c')\n",
            "Most frequent pair: ('w', 'o')\n",
            "Most frequent pair: ('wo', 'o')\n",
            "Most frequent pair: ('woo', 'd')\n",
            "Most frequent pair: ('c', 'h')\n",
            "Most frequent pair: ('ch', 'uc')\n",
            "Most frequent pair: ('chuc', 'k')\n",
            "Most frequent pair: ('chuck', '</w>')\n",
            "Most frequent pair: ('wood', '</w>')\n",
            "Most frequent pair: ('c', 'o')\n",
            "Most frequent pair: ('co', 'u')\n",
            "Most frequent pair: ('cou', 'l')\n",
            "Most frequent pair: ('coul', 'd')\n",
            "Most frequent pair: ('could', '</w>')\n",
            "Most frequent pair: ('a', '</w>')\n",
            "Most frequent pair: ('wood', 'chuck</w>')\n",
            "Most frequent pair: ('H', 'o')\n",
            "Most frequent pair: ('Ho', 'w')\n",
            "Most frequent pair: ('How', '</w>')\n",
            "Most frequent pair: ('m', 'uc')\n",
            "Most frequent pair: ('muc', 'h')\n",
            "Most frequent pair: ('much', '</w>')\n"
          ]
        }
      ]
    },
    {
      "cell_type": "code",
      "source": [
        "print('Tokens: {}'.format(tokens2))\n",
        "print('Number of tokens: {}'.format(len(tokens2)))\n",
        "print('Vocabulary: {}'.format(vocab2))\n",
        "print('Size of vocabulary: {}'.format(len(vocab2)))"
      ],
      "metadata": {
        "id": "sSCw2doI7v3h",
        "outputId": "34b3b330-d95c-46e9-e9d9-c3bf3609b13e",
        "colab": {
          "base_uri": "https://localhost:8080/"
        }
      },
      "execution_count": 17,
      "outputs": [
        {
          "output_type": "stream",
          "name": "stdout",
          "text": [
            "Tokens: defaultdict(<class 'int'>, {'How</w>': 1, 'much</w>': 1, 'wood</w>': 2, 'could</w>': 2, 'a</w>': 2, 'woodchuck</w>': 2, 'chuck</w>': 2, 'i': 1, 'f': 1, '</w>': 1})\n",
            "Number of tokens: 10\n",
            "Vocabulary: {'How</w>': 1, 'much</w>': 1, 'wood</w>': 2, 'could</w>': 2, 'a</w>': 2, 'woodchuck</w>': 2, 'chuck</w>': 2, 'i f </w>': 1}\n",
            "Size of vocabulary: 8\n"
          ]
        }
      ]
    }
  ]
}