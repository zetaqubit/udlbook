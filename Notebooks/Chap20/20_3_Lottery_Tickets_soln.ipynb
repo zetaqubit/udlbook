{
  "nbformat": 4,
  "nbformat_minor": 0,
  "metadata": {
    "colab": {
      "provenance": [],
      "include_colab_link": true
    },
    "kernelspec": {
      "name": "python3",
      "display_name": "Python 3"
    }
  },
  "cells": [
    {
      "cell_type": "markdown",
      "metadata": {
        "id": "view-in-github",
        "colab_type": "text"
      },
      "source": [
        "<a href=\"https://colab.research.google.com/github/zetaqubit/udlbook/blob/main/Notebooks/Chap20/20_3_Lottery_Tickets_soln.ipynb\" target=\"_parent\"><img src=\"https://colab.research.google.com/assets/colab-badge.svg\" alt=\"Open In Colab\"/></a>"
      ]
    },
    {
      "cell_type": "markdown",
      "metadata": {
        "id": "dKUcDM76bHx3"
      },
      "source": [
        "# **Notebook 20.3: Lottery tickets**\n",
        "\n",
        "This notebook investigates the phenomenon of lottery tickets as discussed in section 20.2.7.  This notebook is highly derivative of the MNIST-1D code hosted by Sam Greydanus at https://github.com/greydanus/mnist1d.   \n",
        "\n",
        "Work through the cells below, running each cell in turn. In various places you will see the words \"TO DO\". Follow the instructions at these places and make predictions about what is going to happen or write code to complete the functions.\n",
        "\n",
        "Contact me at udlbookmail@gmail.com if you find any mistakes or have any suggestions."
      ]
    },
    {
      "cell_type": "code",
      "metadata": {
        "id": "Sg2i1QmhKW5d",
        "outputId": "f63c2b98-2b65-499a-8d39-c96725f311e3",
        "colab": {
          "base_uri": "https://localhost:8080/"
        }
      },
      "source": [
        "# Run this if you're in a Colab\n",
        "!git clone https://github.com/greydanus/mnist1d"
      ],
      "execution_count": 1,
      "outputs": [
        {
          "output_type": "stream",
          "name": "stdout",
          "text": [
            "Cloning into 'mnist1d'...\n",
            "remote: Enumerating objects: 155, done.\u001b[K\n",
            "remote: Counting objects: 100% (155/155), done.\u001b[K\n",
            "remote: Compressing objects: 100% (129/129), done.\u001b[K\n",
            "remote: Total 155 (delta 52), reused 123 (delta 26), pack-reused 0\u001b[K\n",
            "Receiving objects: 100% (155/155), 6.48 MiB | 18.47 MiB/s, done.\n",
            "Resolving deltas: 100% (52/52), done.\n"
          ]
        }
      ]
    },
    {
      "cell_type": "markdown",
      "source": [
        "# Lottery tickets\n",
        "\n",
        "Lottery tickets were first identified by [Frankle and Carbin (2018)](https://arxiv.org/abs/1803.03635).  They noted that after training a network, they could set the smaller weights to zero and clamp them there and retrain to get a network that was sparser (had fewer parameters) but could actually perform better.  So within the neural network there lie smaller sub-networks which are superior.  If we knew what these were, we could train them from scratch, but there is currently no way of finding out."
      ],
      "metadata": {
        "id": "97g8gY5XdcKR"
      }
    },
    {
      "cell_type": "code",
      "metadata": {
        "id": "KaQo7QhvXvid"
      },
      "source": [
        "import numpy as np\n",
        "import matplotlib.pyplot as plt\n",
        "\n",
        "import torch\n",
        "import torch.nn as nn\n",
        "import torch.nn.functional as F\n",
        "import torch.optim as optim\n",
        "\n",
        "import mnist1d\n",
        "import copy"
      ],
      "execution_count": 2,
      "outputs": []
    },
    {
      "cell_type": "markdown",
      "metadata": {
        "id": "nre26wEOfZsM"
      },
      "source": [
        "## Get the MNIST1D dataset"
      ]
    },
    {
      "cell_type": "code",
      "metadata": {
        "id": "I-vm_gh5xTJs",
        "outputId": "0e0dcf6e-d8fa-42ee-c96e-b695a2ea205d",
        "colab": {
          "base_uri": "https://localhost:8080/"
        }
      },
      "source": [
        "args = mnist1d.get_dataset_args()\n",
        "data = mnist1d.get_dataset(args=args)  # by default, this will download a pre-made dataset from the GitHub repo\n",
        "\n",
        "print(\"Examples in training set: {}\".format(len(data['y'])))\n",
        "print(\"Examples in test set: {}\".format(len(data['y_test'])))\n",
        "print(\"Length of each input: {}\".format(data['x'].shape[-1]))\n",
        "print(\"Number of classes: {}\".format(len(data['templates']['y'])))"
      ],
      "execution_count": 3,
      "outputs": [
        {
          "output_type": "stream",
          "name": "stdout",
          "text": [
            "Downloading MNIST1D dataset from https://github.com/greydanus/mnist1d/raw/master/mnist1d_data.pkl\n",
            "Saving to ./mnist1d_data.pkl\n",
            "Successfully loaded data from ./mnist1d_data.pkl\n",
            "Examples in training set: 4000\n",
            "Examples in test set: 1000\n",
            "Length of each input: 40\n",
            "Number of classes: 10\n"
          ]
        }
      ]
    },
    {
      "cell_type": "markdown",
      "metadata": {
        "id": "O2vy0FKjfDwr"
      },
      "source": [
        "## Make an MLP that can be masked\n",
        "These parameter-wise binary masks are how we will represent sparsity in this project. There's not a great PyTorch API for this yet, so here's a temporary solution."
      ]
    },
    {
      "cell_type": "code",
      "metadata": {
        "id": "uBx5gNW-mqH_"
      },
      "source": [
        "# Class to represent linear layer where some of the weights are forced to zero.\n",
        "class SparseLinear(torch.nn.Module):\n",
        "  def __init__(self, x_size, y_size):\n",
        "    super(SparseLinear, self).__init__()\n",
        "    self.linear = torch.nn.Linear(x_size, y_size)\n",
        "    param_vec = torch.cat([p.flatten() for p in self.parameters()])\n",
        "    self.mask = torch.ones_like(param_vec)\n",
        "\n",
        "  def forward(self, x, apply_mask=True):\n",
        "    if apply_mask:\n",
        "      self.apply_mask()\n",
        "    return self.linear(x)\n",
        "\n",
        "  def update_mask(self, new_mask):\n",
        "    self.mask = new_mask\n",
        "    self.apply_mask()\n",
        "\n",
        "  def apply_mask(self):\n",
        "    self.vec2param(self.param2vec())\n",
        "\n",
        "  def param2vec(self):\n",
        "    vec = torch.cat([p.flatten() for p in self.parameters()])\n",
        "    return self.mask * vec\n",
        "\n",
        "  def vec2param(self, vec):\n",
        "    pointer = 0\n",
        "    for param in self.parameters():\n",
        "      param_len = np.cumprod(param.shape)[-1]\n",
        "      new_param = vec[pointer:pointer+param_len].reshape(param.shape)\n",
        "      param.data = new_param.data\n",
        "      pointer += param_len\n",
        "\n",
        "# A two layer residual network where the linear layers are sparse\n",
        "class SparseMLP(torch.nn.Module):\n",
        "  def __init__(self, input_size, output_size, hidden_size=100):\n",
        "    super(SparseMLP, self).__init__()\n",
        "    self.linear1 = SparseLinear(input_size, hidden_size)\n",
        "    self.linear2 = SparseLinear(hidden_size, hidden_size)\n",
        "    self.linear3 = SparseLinear(hidden_size, output_size)\n",
        "    self.layers = [self.linear1, self.linear2, self.linear3]\n",
        "\n",
        "  def forward(self, x):\n",
        "    h = torch.relu(self.linear1(x))\n",
        "    h = h + torch.relu(self.linear2(h))\n",
        "    h = self.linear3(h)\n",
        "    return h\n",
        "\n",
        "  def get_layer_masks(self):\n",
        "    return [l.mask for l in self.layers]\n",
        "\n",
        "  def set_layer_masks(self, new_masks):\n",
        "    for i, l in enumerate(self.layers):\n",
        "      l.update_mask(new_masks[i])\n",
        "\n",
        "  def get_layer_vecs(self):\n",
        "    return [l.param2vec() for l in self.layers]\n",
        "\n",
        "  def set_layer_vecs(self, vecs):\n",
        "    for i, l in enumerate(self.layers):\n",
        "      l.vec2param(vecs[i])"
      ],
      "execution_count": 4,
      "outputs": []
    },
    {
      "cell_type": "markdown",
      "metadata": {
        "id": "2hwmH2vIbHin"
      },
      "source": [
        "Now we need a routine that takes the weights from the model and returns a mask that identifies the positions with the lowest magnitude.  These will be the weights that we mask."
      ]
    },
    {
      "cell_type": "code",
      "metadata": {
        "id": "Md2F9WDgYSqT"
      },
      "source": [
        "# absolute weights -- absolute values of all the weights from the model in a long vector\n",
        "# percent_sparse: how much to sparsify the model\n",
        "def get_mask(absolute_weights, percent_sparse):\n",
        "  # TODO -- Write a function that returns a mask that has a zero\n",
        "  # everywhere for the lowest \"percent_sparse\" of the absolute weights.\n",
        "  # E.g. if absolute_weights contains [5,6,0,1,7] and we want percent_sparse of 40%,\n",
        "  # we would return [1,1,0,0,1]\n",
        "  # Remember that these are torch tensors and not numpy arrays\n",
        "  # Replace this function:\n",
        "  if percent_sparse == 0:\n",
        "    return torch.ones_like(absolute_weights)\n",
        "  elif percent_sparse == 1:\n",
        "    return torch.zeros_like(absolute_weights)\n",
        "  k = int(percent_sparse * len(absolute_weights))\n",
        "  min_val, _ = torch.kthvalue(absolute_weights, k)\n",
        "  mask = absolute_weights > min_val\n",
        "  return mask"
      ],
      "execution_count": 26,
      "outputs": []
    },
    {
      "cell_type": "markdown",
      "metadata": {
        "id": "z0McGMV-a3Xo"
      },
      "source": [
        "## The prune-and-retrain cycle\n",
        "This is the core method for finding a lottery ticket. We train a model for a fixed number of epochs, prune it, and then re-train and re-prune. We repeat this cycle until we achieve the desired level of sparsity."
      ]
    },
    {
      "cell_type": "code",
      "metadata": {
        "id": "5idcbyA3Ylz_"
      },
      "source": [
        "def find_lottery_ticket(model, dataset, args, sparsity_schedule, criteria_fn=None, **kwargs):\n",
        "\n",
        "  criteria_fn = lambda init_params, final_params: final_params.abs()\n",
        "\n",
        "  init_params = model.get_layer_vecs()\n",
        "  stats = {'train_losses':[], 'test_losses':[], 'train_accs':[], 'test_accs':[]}\n",
        "  models = []\n",
        "  for i, percent_sparse in enumerate(sparsity_schedule):\n",
        "\n",
        "    # layer-wise pruning, where pruning heuristic is determined by criteria_fn\n",
        "    final_params = model.get_layer_vecs()\n",
        "    scores = [criteria_fn(ip, fp) for ip, fp in zip(init_params, final_params)]\n",
        "    masks = [get_mask(s, percent_sparse) for s in scores]\n",
        "\n",
        "    # update model with mask and init parameters\n",
        "    model.set_layer_vecs(init_params)\n",
        "    model.set_layer_masks(masks)\n",
        "\n",
        "    # training process\n",
        "    results = mnist1d.train_model(dataset, model, args)\n",
        "    model = results['checkpoints'][-1]\n",
        "\n",
        "    # store stats\n",
        "    stats['train_losses'].append(results['train_losses'])\n",
        "    stats['test_losses'].append(results['test_losses'])\n",
        "    stats['train_accs'].append(results['train_acc'])\n",
        "    stats['test_accs'].append(results['test_acc'])\n",
        "\n",
        "    # print progress\n",
        "    if (i+1) % 1 == 0:\n",
        "      print('\\tretrain #{}, sparsity {:.2f}, final_train_loss {:.3e}, max_acc {:.1f}, last_acc {:.1f}, mean_acc {:.1f}'\n",
        "            .format(i+1, percent_sparse, results['train_losses'][-1], np.max(results['test_acc']),\n",
        "            results['test_acc'][-1], np.mean(results['test_acc']) ))\n",
        "      models.append(copy.deepcopy(model))\n",
        "\n",
        "  stats = {k: np.stack(v) for k, v in stats.items()}\n",
        "  return models, stats"
      ],
      "execution_count": 27,
      "outputs": []
    },
    {
      "cell_type": "markdown",
      "metadata": {
        "id": "m4lokvdD4DKI"
      },
      "source": [
        "## Choose hyperparameters"
      ]
    },
    {
      "cell_type": "code",
      "metadata": {
        "id": "OUe7-b-7Yl2c"
      },
      "source": [
        "# train settings\n",
        "model_args = mnist1d.get_model_args()\n",
        "model_args.total_steps = 1501\n",
        "model_args.hidden_size = 500\n",
        "model_args.print_every = 5000 # print never\n",
        "model_args.eval_every = 100\n",
        "model_args.learning_rate = 2e-2\n",
        "model_args.device = str('cpu')"
      ],
      "execution_count": 28,
      "outputs": []
    },
    {
      "cell_type": "markdown",
      "metadata": {
        "id": "hVgDM5rI4J65"
      },
      "source": [
        "Find the lottery ticket by repeatedly training and then pruning weights based on their magnitudes. We'll remove 1% of the weights each time. This is going to take half an hour or so.  Go and have lunch or whatever."
      ]
    },
    {
      "cell_type": "code",
      "source": [
        "# sparsity settings - we will train 100 models with progressively increasing sparsity\n",
        "num_retrains = 100\n",
        "sparsity_schedule = np.linspace(0,1.,num_retrains)\n",
        "\n",
        "print(\"Magnitude pruning\")\n",
        "mnist1d.set_seed(model_args.seed)\n",
        "model = SparseMLP(model_args.input_size, model_args.output_size, hidden_size=model_args.hidden_size)\n",
        "\n",
        "criteria_fn = lambda init_params, final_params: final_params.abs()\n",
        "lott_models, lott_stats = find_lottery_ticket(model, data, model_args, sparsity_schedule, criteria_fn=criteria_fn, prune_print_every=1)"
      ],
      "metadata": {
        "id": "M25YpCuS1Gn0",
        "outputId": "94223a81-8179-439b-c810-b5231cb7cb67",
        "colab": {
          "base_uri": "https://localhost:8080/"
        }
      },
      "execution_count": 29,
      "outputs": [
        {
          "metadata": {
            "tags": null
          },
          "name": "stdout",
          "output_type": "stream",
          "text": [
            "Magnitude pruning\n",
            "\tretrain #1, sparsity 0.00, final_train_loss 1.940e-01, max_acc 66.6, last_acc 65.1, mean_acc 58.6\n",
            "\tretrain #2, sparsity 0.01, final_train_loss 1.096e-01, max_acc 65.9, last_acc 65.6, mean_acc 57.9\n",
            "\tretrain #3, sparsity 0.02, final_train_loss 2.124e-01, max_acc 65.1, last_acc 64.1, mean_acc 57.9\n",
            "\tretrain #4, sparsity 0.03, final_train_loss 4.321e-01, max_acc 65.9, last_acc 63.6, mean_acc 57.7\n",
            "\tretrain #5, sparsity 0.04, final_train_loss 2.452e-01, max_acc 65.9, last_acc 61.3, mean_acc 57.8\n",
            "\tretrain #6, sparsity 0.05, final_train_loss 2.635e-01, max_acc 65.6, last_acc 64.2, mean_acc 57.9\n",
            "\tretrain #7, sparsity 0.06, final_train_loss 1.358e-01, max_acc 65.4, last_acc 65.4, mean_acc 57.2\n",
            "\tretrain #8, sparsity 0.07, final_train_loss 1.767e-01, max_acc 64.4, last_acc 63.8, mean_acc 57.9\n",
            "\tretrain #9, sparsity 0.08, final_train_loss 2.153e-01, max_acc 66.0, last_acc 63.0, mean_acc 57.8\n",
            "\tretrain #10, sparsity 0.09, final_train_loss 3.339e-01, max_acc 66.0, last_acc 65.0, mean_acc 58.2\n",
            "\tretrain #11, sparsity 0.10, final_train_loss 1.238e-01, max_acc 66.7, last_acc 66.7, mean_acc 58.4\n",
            "\tretrain #12, sparsity 0.11, final_train_loss 2.568e-01, max_acc 65.2, last_acc 65.2, mean_acc 58.2\n",
            "\tretrain #13, sparsity 0.12, final_train_loss 2.378e-01, max_acc 66.3, last_acc 63.1, mean_acc 57.9\n",
            "\tretrain #14, sparsity 0.13, final_train_loss 9.011e-02, max_acc 65.0, last_acc 64.5, mean_acc 58.0\n",
            "\tretrain #15, sparsity 0.14, final_train_loss 2.622e-01, max_acc 66.8, last_acc 64.6, mean_acc 58.5\n",
            "\tretrain #16, sparsity 0.15, final_train_loss 3.361e-01, max_acc 65.3, last_acc 64.2, mean_acc 58.1\n",
            "\tretrain #17, sparsity 0.16, final_train_loss 4.491e-01, max_acc 66.8, last_acc 66.0, mean_acc 59.1\n",
            "\tretrain #18, sparsity 0.17, final_train_loss 3.094e-01, max_acc 66.5, last_acc 65.1, mean_acc 59.1\n",
            "\tretrain #19, sparsity 0.18, final_train_loss 1.688e-01, max_acc 67.5, last_acc 64.6, mean_acc 59.0\n",
            "\tretrain #20, sparsity 0.19, final_train_loss 3.499e-01, max_acc 65.9, last_acc 65.9, mean_acc 58.4\n",
            "\tretrain #21, sparsity 0.20, final_train_loss 6.795e-02, max_acc 66.0, last_acc 64.1, mean_acc 58.2\n",
            "\tretrain #22, sparsity 0.21, final_train_loss 2.900e-01, max_acc 66.1, last_acc 63.8, mean_acc 58.0\n",
            "\tretrain #23, sparsity 0.22, final_train_loss 2.174e-01, max_acc 65.9, last_acc 64.4, mean_acc 58.7\n",
            "\tretrain #24, sparsity 0.23, final_train_loss 2.263e-01, max_acc 65.3, last_acc 64.4, mean_acc 58.6\n",
            "\tretrain #25, sparsity 0.24, final_train_loss 7.114e-02, max_acc 66.4, last_acc 66.4, mean_acc 58.0\n",
            "\tretrain #26, sparsity 0.25, final_train_loss 1.889e-01, max_acc 67.3, last_acc 67.3, mean_acc 59.5\n",
            "\tretrain #27, sparsity 0.26, final_train_loss 1.252e-01, max_acc 66.2, last_acc 63.8, mean_acc 58.7\n",
            "\tretrain #28, sparsity 0.27, final_train_loss 6.730e-02, max_acc 67.0, last_acc 65.3, mean_acc 59.3\n",
            "\tretrain #29, sparsity 0.28, final_train_loss 1.914e-01, max_acc 65.2, last_acc 64.0, mean_acc 59.1\n",
            "\tretrain #30, sparsity 0.29, final_train_loss 1.317e-01, max_acc 64.7, last_acc 63.7, mean_acc 58.3\n",
            "\tretrain #31, sparsity 0.30, final_train_loss 8.166e-02, max_acc 66.2, last_acc 65.2, mean_acc 59.8\n",
            "\tretrain #32, sparsity 0.31, final_train_loss 2.441e-01, max_acc 65.9, last_acc 65.2, mean_acc 59.3\n",
            "\tretrain #33, sparsity 0.32, final_train_loss 2.098e-01, max_acc 66.3, last_acc 64.0, mean_acc 59.7\n",
            "\tretrain #34, sparsity 0.33, final_train_loss 1.495e-01, max_acc 67.9, last_acc 67.9, mean_acc 59.8\n",
            "\tretrain #35, sparsity 0.34, final_train_loss 1.484e-01, max_acc 67.9, last_acc 66.4, mean_acc 60.1\n",
            "\tretrain #36, sparsity 0.35, final_train_loss 2.921e-01, max_acc 66.7, last_acc 66.1, mean_acc 59.8\n",
            "\tretrain #37, sparsity 0.36, final_train_loss 1.091e-01, max_acc 69.1, last_acc 69.1, mean_acc 60.1\n",
            "\tretrain #38, sparsity 0.37, final_train_loss 2.177e-01, max_acc 67.9, last_acc 66.7, mean_acc 60.8\n",
            "\tretrain #39, sparsity 0.38, final_train_loss 2.484e-01, max_acc 65.2, last_acc 64.6, mean_acc 59.5\n",
            "\tretrain #40, sparsity 0.39, final_train_loss 2.432e-01, max_acc 68.2, last_acc 66.2, mean_acc 60.8\n",
            "\tretrain #41, sparsity 0.40, final_train_loss 1.843e-01, max_acc 65.9, last_acc 65.0, mean_acc 60.3\n",
            "\tretrain #42, sparsity 0.41, final_train_loss 1.148e-02, max_acc 68.1, last_acc 67.3, mean_acc 60.3\n",
            "\tretrain #43, sparsity 0.42, final_train_loss 1.498e-01, max_acc 67.7, last_acc 64.7, mean_acc 60.2\n",
            "\tretrain #44, sparsity 0.43, final_train_loss 2.385e-01, max_acc 67.2, last_acc 64.3, mean_acc 60.2\n",
            "\tretrain #45, sparsity 0.44, final_train_loss 3.431e-01, max_acc 67.3, last_acc 63.3, mean_acc 60.8\n",
            "\tretrain #46, sparsity 0.45, final_train_loss 1.266e-01, max_acc 66.2, last_acc 65.8, mean_acc 60.3\n",
            "\tretrain #47, sparsity 0.46, final_train_loss 1.229e-01, max_acc 68.2, last_acc 67.8, mean_acc 61.4\n",
            "\tretrain #48, sparsity 0.47, final_train_loss 7.637e-02, max_acc 66.5, last_acc 66.5, mean_acc 60.4\n",
            "\tretrain #49, sparsity 0.48, final_train_loss 1.404e-01, max_acc 68.8, last_acc 67.7, mean_acc 61.2\n",
            "\tretrain #50, sparsity 0.49, final_train_loss 2.074e-01, max_acc 69.1, last_acc 66.5, mean_acc 61.8\n",
            "\tretrain #51, sparsity 0.51, final_train_loss 3.816e-02, max_acc 67.3, last_acc 67.3, mean_acc 61.5\n",
            "\tretrain #52, sparsity 0.52, final_train_loss 7.244e-02, max_acc 68.6, last_acc 65.6, mean_acc 62.2\n",
            "\tretrain #53, sparsity 0.53, final_train_loss 1.646e-01, max_acc 68.0, last_acc 65.7, mean_acc 60.8\n",
            "\tretrain #54, sparsity 0.54, final_train_loss 4.136e-01, max_acc 69.7, last_acc 62.5, mean_acc 61.9\n",
            "\tretrain #55, sparsity 0.55, final_train_loss 2.312e-01, max_acc 67.6, last_acc 66.1, mean_acc 61.7\n",
            "\tretrain #56, sparsity 0.56, final_train_loss 2.196e-01, max_acc 68.0, last_acc 67.6, mean_acc 61.9\n",
            "\tretrain #57, sparsity 0.57, final_train_loss 5.660e-01, max_acc 69.8, last_acc 66.3, mean_acc 61.9\n",
            "\tretrain #58, sparsity 0.58, final_train_loss 2.826e-02, max_acc 67.9, last_acc 67.5, mean_acc 62.3\n",
            "\tretrain #59, sparsity 0.59, final_train_loss 4.794e-01, max_acc 68.7, last_acc 65.5, mean_acc 62.3\n",
            "\tretrain #60, sparsity 0.60, final_train_loss 2.082e-01, max_acc 69.4, last_acc 68.6, mean_acc 62.7\n",
            "\tretrain #61, sparsity 0.61, final_train_loss 1.483e-01, max_acc 70.1, last_acc 68.8, mean_acc 62.9\n",
            "\tretrain #62, sparsity 0.62, final_train_loss 3.969e-02, max_acc 68.5, last_acc 66.4, mean_acc 62.1\n",
            "\tretrain #63, sparsity 0.63, final_train_loss 3.998e-02, max_acc 69.3, last_acc 69.3, mean_acc 63.1\n",
            "\tretrain #64, sparsity 0.64, final_train_loss 1.556e-01, max_acc 68.5, last_acc 65.8, mean_acc 62.5\n",
            "\tretrain #65, sparsity 0.65, final_train_loss 1.074e-01, max_acc 69.6, last_acc 69.6, mean_acc 63.1\n",
            "\tretrain #66, sparsity 0.66, final_train_loss 4.229e-02, max_acc 68.2, last_acc 68.2, mean_acc 62.1\n",
            "\tretrain #67, sparsity 0.67, final_train_loss 1.476e-01, max_acc 69.5, last_acc 68.7, mean_acc 63.5\n",
            "\tretrain #68, sparsity 0.68, final_train_loss 2.211e-01, max_acc 70.8, last_acc 68.3, mean_acc 64.0\n",
            "\tretrain #69, sparsity 0.69, final_train_loss 1.667e-01, max_acc 72.6, last_acc 67.9, mean_acc 65.4\n",
            "\tretrain #70, sparsity 0.70, final_train_loss 2.794e-02, max_acc 74.3, last_acc 74.3, mean_acc 64.7\n",
            "\tretrain #71, sparsity 0.71, final_train_loss 2.319e-01, max_acc 71.6, last_acc 71.6, mean_acc 64.5\n",
            "\tretrain #72, sparsity 0.72, final_train_loss 5.928e-02, max_acc 71.6, last_acc 71.6, mean_acc 64.7\n",
            "\tretrain #73, sparsity 0.73, final_train_loss 1.750e-01, max_acc 71.9, last_acc 67.9, mean_acc 65.0\n",
            "\tretrain #74, sparsity 0.74, final_train_loss 4.404e-02, max_acc 70.6, last_acc 70.6, mean_acc 64.5\n",
            "\tretrain #75, sparsity 0.75, final_train_loss 1.792e-01, max_acc 73.8, last_acc 69.3, mean_acc 65.5\n",
            "\tretrain #76, sparsity 0.76, final_train_loss 1.249e-02, max_acc 72.9, last_acc 71.7, mean_acc 65.7\n",
            "\tretrain #77, sparsity 0.77, final_train_loss 3.009e-03, max_acc 72.4, last_acc 72.4, mean_acc 65.0\n",
            "\tretrain #78, sparsity 0.78, final_train_loss 1.152e-02, max_acc 71.9, last_acc 69.4, mean_acc 65.1\n",
            "\tretrain #79, sparsity 0.79, final_train_loss 3.695e-02, max_acc 73.1, last_acc 73.1, mean_acc 65.9\n",
            "\tretrain #80, sparsity 0.80, final_train_loss 8.371e-02, max_acc 71.4, last_acc 71.4, mean_acc 65.6\n",
            "\tretrain #81, sparsity 0.81, final_train_loss 2.988e-02, max_acc 73.3, last_acc 71.7, mean_acc 66.2\n",
            "\tretrain #82, sparsity 0.82, final_train_loss 9.695e-02, max_acc 72.6, last_acc 72.5, mean_acc 66.1\n",
            "\tretrain #83, sparsity 0.83, final_train_loss 1.996e-01, max_acc 72.6, last_acc 71.5, mean_acc 66.7\n",
            "\tretrain #84, sparsity 0.84, final_train_loss 7.997e-02, max_acc 72.8, last_acc 70.8, mean_acc 66.7\n",
            "\tretrain #85, sparsity 0.85, final_train_loss 3.154e-01, max_acc 72.4, last_acc 69.9, mean_acc 66.0\n",
            "\tretrain #86, sparsity 0.86, final_train_loss 4.963e-02, max_acc 73.3, last_acc 70.4, mean_acc 66.6\n",
            "\tretrain #87, sparsity 0.87, final_train_loss 9.169e-03, max_acc 73.8, last_acc 73.8, mean_acc 66.8\n",
            "\tretrain #88, sparsity 0.88, final_train_loss 1.539e-01, max_acc 74.3, last_acc 72.5, mean_acc 67.6\n",
            "\tretrain #89, sparsity 0.89, final_train_loss 1.540e-01, max_acc 74.1, last_acc 69.1, mean_acc 67.6\n",
            "\tretrain #90, sparsity 0.90, final_train_loss 1.949e-02, max_acc 72.9, last_acc 72.8, mean_acc 67.4\n",
            "\tretrain #91, sparsity 0.91, final_train_loss 1.218e-01, max_acc 72.7, last_acc 72.5, mean_acc 67.0\n",
            "\tretrain #92, sparsity 0.92, final_train_loss 4.586e-02, max_acc 73.5, last_acc 71.1, mean_acc 66.7\n",
            "\tretrain #93, sparsity 0.93, final_train_loss 2.783e-02, max_acc 73.8, last_acc 73.8, mean_acc 67.4\n",
            "\tretrain #94, sparsity 0.94, final_train_loss 8.381e-02, max_acc 74.0, last_acc 71.8, mean_acc 66.9\n",
            "\tretrain #95, sparsity 0.95, final_train_loss 1.810e-01, max_acc 71.3, last_acc 69.0, mean_acc 65.6\n",
            "\tretrain #96, sparsity 0.96, final_train_loss 1.509e-01, max_acc 71.3, last_acc 71.3, mean_acc 64.4\n",
            "\tretrain #97, sparsity 0.97, final_train_loss 2.247e-01, max_acc 67.2, last_acc 66.9, mean_acc 61.8\n",
            "\tretrain #98, sparsity 0.98, final_train_loss 5.112e-01, max_acc 61.4, last_acc 61.4, mean_acc 55.6\n",
            "\tretrain #99, sparsity 0.99, final_train_loss 1.562e+00, max_acc 33.8, last_acc 31.5, mean_acc 31.3\n",
            "\tretrain #100, sparsity 1.00, final_train_loss 2.303e+00, max_acc 10.2, last_acc 10.2, mean_acc 10.2\n"
          ]
        }
      ]
    },
    {
      "cell_type": "code",
      "source": [
        "test_losses = lott_stats['test_losses'][:,-1]\n",
        "test_accs = lott_stats['test_accs'][:,-1]\n",
        "\n",
        "fig,ax = plt.subplots()\n",
        "ax.plot(sparsity_schedule, test_losses,'r-')\n",
        "ax.plot((sparsity_schedule[0], sparsity_schedule[-1]),(test_losses[0], test_losses[0]),'k--',label='dense')\n",
        "ax.set_xlabel('Sparsity')\n",
        "ax.set_ylabel('Loss')\n",
        "ax.set_xlim(0,1)\n",
        "ax.legend()\n",
        "plt.show()\n",
        "\n",
        "fig,ax = plt.subplots()\n",
        "ax.plot(sparsity_schedule, 100-test_accs,'r-')\n",
        "ax.plot((sparsity_schedule[0], sparsity_schedule[-1]),(100-test_accs[0], 100-test_accs[0]),'k--',label='dense')\n",
        "ax.set_xlabel('Sparsity')\n",
        "ax.set_ylabel('Percent Error')\n",
        "ax.set_xlim(0,1)\n",
        "ax.set_ylim(0,100)\n",
        "ax.legend()\n",
        "plt.show()\n"
      ],
      "metadata": {
        "id": "TCs-kt6-3xHB",
        "outputId": "824de69d-3aa3-45f1-9991-98af7109217e",
        "colab": {
          "base_uri": "https://localhost:8080/",
          "height": 887
        }
      },
      "execution_count": 30,
      "outputs": [
        {
          "output_type": "display_data",
          "data": {
            "text/plain": [
              "<Figure size 640x480 with 1 Axes>"
            ],
            "image/png": "[encoded data removed]"
          },
          "metadata": {}
        },
        {
          "output_type": "display_data",
          "data": {
            "text/plain": [
              "<Figure size 640x480 with 1 Axes>"
            ],
            "image/png": "[encoded data removed]"
          },
          "metadata": {}
        }
      ]
    },
    {
      "cell_type": "markdown",
      "source": [
        "You should see that the test loss decreases and the errors decrease with more as the network gets sparser.  The dashed line represents the original dense (unpruned) network.  We have identified a simpler network that was \"inside\" the original network for which the results are superior.  Of course if we make it too sparse, then it gets worse again.\n",
        "\n",
        "This phenomenon is explored much further in the original notebook by Sam Greydanus which can be found [here](https://github.com/greydanus/mnist1d)."
      ],
      "metadata": {
        "id": "CEj5_ZEHcRpw"
      }
    }
  ]
}